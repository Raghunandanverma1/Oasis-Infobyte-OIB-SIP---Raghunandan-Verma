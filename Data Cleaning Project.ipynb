{
 "cells": [
  {
   "cell_type": "markdown",
   "id": "6119974b-858a-4c63-8df3-65ed37e0fc5c",
   "metadata": {},
   "source": [
    "# Data Cleaning Project"
   ]
  },
  {
   "cell_type": "code",
   "execution_count": 1,
   "id": "b8d162c8-eef4-42ec-a28a-e65826d02903",
   "metadata": {},
   "outputs": [],
   "source": [
    "import numpy as np\n",
    "import pandas as pd\n",
    "import matplotlib.pyplot as plt"
   ]
  },
  {
   "cell_type": "code",
   "execution_count": 2,
   "id": "5e1c6fed-f0e7-4f67-ad43-697e23b2b2de",
   "metadata": {},
   "outputs": [],
   "source": [
    "#Import dataset\n",
    "df = pd.read_csv('AB_NYC_2019.csv')"
   ]
  },
  {
   "cell_type": "code",
   "execution_count": 3,
   "id": "db872bdc-6ed9-483e-bac3-5310503569f8",
   "metadata": {},
   "outputs": [
    {
     "data": {
      "text/html": [
       "<div>\n",
       "<style scoped>\n",
       "    .dataframe tbody tr th:only-of-type {\n",
       "        vertical-align: middle;\n",
       "    }\n",
       "\n",
       "    .dataframe tbody tr th {\n",
       "        vertical-align: top;\n",
       "    }\n",
       "\n",
       "    .dataframe thead th {\n",
       "        text-align: right;\n",
       "    }\n",
       "</style>\n",
       "<table border=\"1\" class=\"dataframe\">\n",
       "  <thead>\n",
       "    <tr style=\"text-align: right;\">\n",
       "      <th></th>\n",
       "      <th>id</th>\n",
       "      <th>name</th>\n",
       "      <th>host_id</th>\n",
       "      <th>host_name</th>\n",
       "      <th>neighbourhood_group</th>\n",
       "      <th>neighbourhood</th>\n",
       "      <th>latitude</th>\n",
       "      <th>longitude</th>\n",
       "      <th>room_type</th>\n",
       "      <th>price</th>\n",
       "      <th>minimum_nights</th>\n",
       "      <th>number_of_reviews</th>\n",
       "      <th>last_review</th>\n",
       "      <th>reviews_per_month</th>\n",
       "      <th>calculated_host_listings_count</th>\n",
       "      <th>availability_365</th>\n",
       "    </tr>\n",
       "  </thead>\n",
       "  <tbody>\n",
       "    <tr>\n",
       "      <th>0</th>\n",
       "      <td>2539</td>\n",
       "      <td>Clean &amp; quiet apt home by the park</td>\n",
       "      <td>2787</td>\n",
       "      <td>John</td>\n",
       "      <td>Brooklyn</td>\n",
       "      <td>Kensington</td>\n",
       "      <td>40.64749</td>\n",
       "      <td>-73.97237</td>\n",
       "      <td>Private room</td>\n",
       "      <td>149</td>\n",
       "      <td>1</td>\n",
       "      <td>9</td>\n",
       "      <td>2018-10-19</td>\n",
       "      <td>0.21</td>\n",
       "      <td>6</td>\n",
       "      <td>365</td>\n",
       "    </tr>\n",
       "    <tr>\n",
       "      <th>1</th>\n",
       "      <td>2595</td>\n",
       "      <td>Skylit Midtown Castle</td>\n",
       "      <td>2845</td>\n",
       "      <td>Jennifer</td>\n",
       "      <td>Manhattan</td>\n",
       "      <td>Midtown</td>\n",
       "      <td>40.75362</td>\n",
       "      <td>-73.98377</td>\n",
       "      <td>Entire home/apt</td>\n",
       "      <td>225</td>\n",
       "      <td>1</td>\n",
       "      <td>45</td>\n",
       "      <td>2019-05-21</td>\n",
       "      <td>0.38</td>\n",
       "      <td>2</td>\n",
       "      <td>355</td>\n",
       "    </tr>\n",
       "    <tr>\n",
       "      <th>2</th>\n",
       "      <td>3647</td>\n",
       "      <td>THE VILLAGE OF HARLEM....NEW YORK !</td>\n",
       "      <td>4632</td>\n",
       "      <td>Elisabeth</td>\n",
       "      <td>Manhattan</td>\n",
       "      <td>Harlem</td>\n",
       "      <td>40.80902</td>\n",
       "      <td>-73.94190</td>\n",
       "      <td>Private room</td>\n",
       "      <td>150</td>\n",
       "      <td>3</td>\n",
       "      <td>0</td>\n",
       "      <td>NaN</td>\n",
       "      <td>NaN</td>\n",
       "      <td>1</td>\n",
       "      <td>365</td>\n",
       "    </tr>\n",
       "    <tr>\n",
       "      <th>3</th>\n",
       "      <td>3831</td>\n",
       "      <td>Cozy Entire Floor of Brownstone</td>\n",
       "      <td>4869</td>\n",
       "      <td>LisaRoxanne</td>\n",
       "      <td>Brooklyn</td>\n",
       "      <td>Clinton Hill</td>\n",
       "      <td>40.68514</td>\n",
       "      <td>-73.95976</td>\n",
       "      <td>Entire home/apt</td>\n",
       "      <td>89</td>\n",
       "      <td>1</td>\n",
       "      <td>270</td>\n",
       "      <td>2019-07-05</td>\n",
       "      <td>4.64</td>\n",
       "      <td>1</td>\n",
       "      <td>194</td>\n",
       "    </tr>\n",
       "    <tr>\n",
       "      <th>4</th>\n",
       "      <td>5022</td>\n",
       "      <td>Entire Apt: Spacious Studio/Loft by central park</td>\n",
       "      <td>7192</td>\n",
       "      <td>Laura</td>\n",
       "      <td>Manhattan</td>\n",
       "      <td>East Harlem</td>\n",
       "      <td>40.79851</td>\n",
       "      <td>-73.94399</td>\n",
       "      <td>Entire home/apt</td>\n",
       "      <td>80</td>\n",
       "      <td>10</td>\n",
       "      <td>9</td>\n",
       "      <td>2018-11-19</td>\n",
       "      <td>0.10</td>\n",
       "      <td>1</td>\n",
       "      <td>0</td>\n",
       "    </tr>\n",
       "  </tbody>\n",
       "</table>\n",
       "</div>"
      ],
      "text/plain": [
       "     id                                              name  host_id  \\\n",
       "0  2539                Clean & quiet apt home by the park     2787   \n",
       "1  2595                             Skylit Midtown Castle     2845   \n",
       "2  3647               THE VILLAGE OF HARLEM....NEW YORK !     4632   \n",
       "3  3831                   Cozy Entire Floor of Brownstone     4869   \n",
       "4  5022  Entire Apt: Spacious Studio/Loft by central park     7192   \n",
       "\n",
       "     host_name neighbourhood_group neighbourhood  latitude  longitude  \\\n",
       "0         John            Brooklyn    Kensington  40.64749  -73.97237   \n",
       "1     Jennifer           Manhattan       Midtown  40.75362  -73.98377   \n",
       "2    Elisabeth           Manhattan        Harlem  40.80902  -73.94190   \n",
       "3  LisaRoxanne            Brooklyn  Clinton Hill  40.68514  -73.95976   \n",
       "4        Laura           Manhattan   East Harlem  40.79851  -73.94399   \n",
       "\n",
       "         room_type  price  minimum_nights  number_of_reviews last_review  \\\n",
       "0     Private room    149               1                  9  2018-10-19   \n",
       "1  Entire home/apt    225               1                 45  2019-05-21   \n",
       "2     Private room    150               3                  0         NaN   \n",
       "3  Entire home/apt     89               1                270  2019-07-05   \n",
       "4  Entire home/apt     80              10                  9  2018-11-19   \n",
       "\n",
       "   reviews_per_month  calculated_host_listings_count  availability_365  \n",
       "0               0.21                               6               365  \n",
       "1               0.38                               2               355  \n",
       "2                NaN                               1               365  \n",
       "3               4.64                               1               194  \n",
       "4               0.10                               1                 0  "
      ]
     },
     "execution_count": 3,
     "metadata": {},
     "output_type": "execute_result"
    }
   ],
   "source": [
    "df.head()"
   ]
  },
  {
   "cell_type": "code",
   "execution_count": 4,
   "id": "c57b5fde-1ecf-448c-af97-18e09b7eb02f",
   "metadata": {},
   "outputs": [
    {
     "data": {
      "text/html": [
       "<div>\n",
       "<style scoped>\n",
       "    .dataframe tbody tr th:only-of-type {\n",
       "        vertical-align: middle;\n",
       "    }\n",
       "\n",
       "    .dataframe tbody tr th {\n",
       "        vertical-align: top;\n",
       "    }\n",
       "\n",
       "    .dataframe thead th {\n",
       "        text-align: right;\n",
       "    }\n",
       "</style>\n",
       "<table border=\"1\" class=\"dataframe\">\n",
       "  <thead>\n",
       "    <tr style=\"text-align: right;\">\n",
       "      <th></th>\n",
       "      <th>id</th>\n",
       "      <th>name</th>\n",
       "      <th>host_id</th>\n",
       "      <th>host_name</th>\n",
       "      <th>neighbourhood_group</th>\n",
       "      <th>neighbourhood</th>\n",
       "      <th>latitude</th>\n",
       "      <th>longitude</th>\n",
       "      <th>room_type</th>\n",
       "      <th>price</th>\n",
       "      <th>minimum_nights</th>\n",
       "      <th>number_of_reviews</th>\n",
       "      <th>last_review</th>\n",
       "      <th>reviews_per_month</th>\n",
       "      <th>calculated_host_listings_count</th>\n",
       "      <th>availability_365</th>\n",
       "    </tr>\n",
       "  </thead>\n",
       "  <tbody>\n",
       "    <tr>\n",
       "      <th>36732</th>\n",
       "      <td>29189777</td>\n",
       "      <td>Bed&amp;Bushwick | Clean &amp; Chic Apt, Close to Subway</td>\n",
       "      <td>219924114</td>\n",
       "      <td>Mella &amp; Justin</td>\n",
       "      <td>Brooklyn</td>\n",
       "      <td>Bushwick</td>\n",
       "      <td>40.6954</td>\n",
       "      <td>-73.92723</td>\n",
       "      <td>Entire home/apt</td>\n",
       "      <td>115</td>\n",
       "      <td>3</td>\n",
       "      <td>38</td>\n",
       "      <td>2019-07-01</td>\n",
       "      <td>4.4</td>\n",
       "      <td>1</td>\n",
       "      <td>131</td>\n",
       "    </tr>\n",
       "  </tbody>\n",
       "</table>\n",
       "</div>"
      ],
      "text/plain": [
       "             id                                              name    host_id  \\\n",
       "36732  29189777  Bed&Bushwick | Clean & Chic Apt, Close to Subway  219924114   \n",
       "\n",
       "            host_name neighbourhood_group neighbourhood  latitude  longitude  \\\n",
       "36732  Mella & Justin            Brooklyn      Bushwick   40.6954  -73.92723   \n",
       "\n",
       "             room_type  price  minimum_nights  number_of_reviews last_review  \\\n",
       "36732  Entire home/apt    115               3                 38  2019-07-01   \n",
       "\n",
       "       reviews_per_month  calculated_host_listings_count  availability_365  \n",
       "36732                4.4                               1               131  "
      ]
     },
     "execution_count": 4,
     "metadata": {},
     "output_type": "execute_result"
    }
   ],
   "source": [
    "df.sample()"
   ]
  },
  {
   "cell_type": "code",
   "execution_count": 5,
   "id": "351eddbe-f0ab-49d4-90be-53f4b415d19f",
   "metadata": {},
   "outputs": [
    {
     "data": {
      "text/html": [
       "<div>\n",
       "<style scoped>\n",
       "    .dataframe tbody tr th:only-of-type {\n",
       "        vertical-align: middle;\n",
       "    }\n",
       "\n",
       "    .dataframe tbody tr th {\n",
       "        vertical-align: top;\n",
       "    }\n",
       "\n",
       "    .dataframe thead th {\n",
       "        text-align: right;\n",
       "    }\n",
       "</style>\n",
       "<table border=\"1\" class=\"dataframe\">\n",
       "  <thead>\n",
       "    <tr style=\"text-align: right;\">\n",
       "      <th></th>\n",
       "      <th>id</th>\n",
       "      <th>name</th>\n",
       "      <th>host_id</th>\n",
       "      <th>host_name</th>\n",
       "      <th>neighbourhood_group</th>\n",
       "      <th>neighbourhood</th>\n",
       "      <th>latitude</th>\n",
       "      <th>longitude</th>\n",
       "      <th>room_type</th>\n",
       "      <th>price</th>\n",
       "      <th>minimum_nights</th>\n",
       "      <th>number_of_reviews</th>\n",
       "      <th>last_review</th>\n",
       "      <th>reviews_per_month</th>\n",
       "      <th>calculated_host_listings_count</th>\n",
       "      <th>availability_365</th>\n",
       "    </tr>\n",
       "  </thead>\n",
       "  <tbody>\n",
       "    <tr>\n",
       "      <th>48890</th>\n",
       "      <td>36484665</td>\n",
       "      <td>Charming one bedroom - newly renovated rowhouse</td>\n",
       "      <td>8232441</td>\n",
       "      <td>Sabrina</td>\n",
       "      <td>Brooklyn</td>\n",
       "      <td>Bedford-Stuyvesant</td>\n",
       "      <td>40.67853</td>\n",
       "      <td>-73.94995</td>\n",
       "      <td>Private room</td>\n",
       "      <td>70</td>\n",
       "      <td>2</td>\n",
       "      <td>0</td>\n",
       "      <td>NaN</td>\n",
       "      <td>NaN</td>\n",
       "      <td>2</td>\n",
       "      <td>9</td>\n",
       "    </tr>\n",
       "    <tr>\n",
       "      <th>48891</th>\n",
       "      <td>36485057</td>\n",
       "      <td>Affordable room in Bushwick/East Williamsburg</td>\n",
       "      <td>6570630</td>\n",
       "      <td>Marisol</td>\n",
       "      <td>Brooklyn</td>\n",
       "      <td>Bushwick</td>\n",
       "      <td>40.70184</td>\n",
       "      <td>-73.93317</td>\n",
       "      <td>Private room</td>\n",
       "      <td>40</td>\n",
       "      <td>4</td>\n",
       "      <td>0</td>\n",
       "      <td>NaN</td>\n",
       "      <td>NaN</td>\n",
       "      <td>2</td>\n",
       "      <td>36</td>\n",
       "    </tr>\n",
       "    <tr>\n",
       "      <th>48892</th>\n",
       "      <td>36485431</td>\n",
       "      <td>Sunny Studio at Historical Neighborhood</td>\n",
       "      <td>23492952</td>\n",
       "      <td>Ilgar &amp; Aysel</td>\n",
       "      <td>Manhattan</td>\n",
       "      <td>Harlem</td>\n",
       "      <td>40.81475</td>\n",
       "      <td>-73.94867</td>\n",
       "      <td>Entire home/apt</td>\n",
       "      <td>115</td>\n",
       "      <td>10</td>\n",
       "      <td>0</td>\n",
       "      <td>NaN</td>\n",
       "      <td>NaN</td>\n",
       "      <td>1</td>\n",
       "      <td>27</td>\n",
       "    </tr>\n",
       "    <tr>\n",
       "      <th>48893</th>\n",
       "      <td>36485609</td>\n",
       "      <td>43rd St. Time Square-cozy single bed</td>\n",
       "      <td>30985759</td>\n",
       "      <td>Taz</td>\n",
       "      <td>Manhattan</td>\n",
       "      <td>Hell's Kitchen</td>\n",
       "      <td>40.75751</td>\n",
       "      <td>-73.99112</td>\n",
       "      <td>Shared room</td>\n",
       "      <td>55</td>\n",
       "      <td>1</td>\n",
       "      <td>0</td>\n",
       "      <td>NaN</td>\n",
       "      <td>NaN</td>\n",
       "      <td>6</td>\n",
       "      <td>2</td>\n",
       "    </tr>\n",
       "    <tr>\n",
       "      <th>48894</th>\n",
       "      <td>36487245</td>\n",
       "      <td>Trendy duplex in the very heart of Hell's Kitchen</td>\n",
       "      <td>68119814</td>\n",
       "      <td>Christophe</td>\n",
       "      <td>Manhattan</td>\n",
       "      <td>Hell's Kitchen</td>\n",
       "      <td>40.76404</td>\n",
       "      <td>-73.98933</td>\n",
       "      <td>Private room</td>\n",
       "      <td>90</td>\n",
       "      <td>7</td>\n",
       "      <td>0</td>\n",
       "      <td>NaN</td>\n",
       "      <td>NaN</td>\n",
       "      <td>1</td>\n",
       "      <td>23</td>\n",
       "    </tr>\n",
       "  </tbody>\n",
       "</table>\n",
       "</div>"
      ],
      "text/plain": [
       "             id                                               name   host_id  \\\n",
       "48890  36484665    Charming one bedroom - newly renovated rowhouse   8232441   \n",
       "48891  36485057      Affordable room in Bushwick/East Williamsburg   6570630   \n",
       "48892  36485431            Sunny Studio at Historical Neighborhood  23492952   \n",
       "48893  36485609               43rd St. Time Square-cozy single bed  30985759   \n",
       "48894  36487245  Trendy duplex in the very heart of Hell's Kitchen  68119814   \n",
       "\n",
       "           host_name neighbourhood_group       neighbourhood  latitude  \\\n",
       "48890        Sabrina            Brooklyn  Bedford-Stuyvesant  40.67853   \n",
       "48891        Marisol            Brooklyn            Bushwick  40.70184   \n",
       "48892  Ilgar & Aysel           Manhattan              Harlem  40.81475   \n",
       "48893            Taz           Manhattan      Hell's Kitchen  40.75751   \n",
       "48894     Christophe           Manhattan      Hell's Kitchen  40.76404   \n",
       "\n",
       "       longitude        room_type  price  minimum_nights  number_of_reviews  \\\n",
       "48890  -73.94995     Private room     70               2                  0   \n",
       "48891  -73.93317     Private room     40               4                  0   \n",
       "48892  -73.94867  Entire home/apt    115              10                  0   \n",
       "48893  -73.99112      Shared room     55               1                  0   \n",
       "48894  -73.98933     Private room     90               7                  0   \n",
       "\n",
       "      last_review  reviews_per_month  calculated_host_listings_count  \\\n",
       "48890         NaN                NaN                               2   \n",
       "48891         NaN                NaN                               2   \n",
       "48892         NaN                NaN                               1   \n",
       "48893         NaN                NaN                               6   \n",
       "48894         NaN                NaN                               1   \n",
       "\n",
       "       availability_365  \n",
       "48890                 9  \n",
       "48891                36  \n",
       "48892                27  \n",
       "48893                 2  \n",
       "48894                23  "
      ]
     },
     "execution_count": 5,
     "metadata": {},
     "output_type": "execute_result"
    }
   ],
   "source": [
    "df.tail()"
   ]
  },
  {
   "cell_type": "code",
   "execution_count": 6,
   "id": "040aea5b-1d72-42cb-8042-63a720d6a23c",
   "metadata": {},
   "outputs": [
    {
     "name": "stdout",
     "output_type": "stream",
     "text": [
      "<class 'pandas.core.frame.DataFrame'>\n",
      "RangeIndex: 48895 entries, 0 to 48894\n",
      "Data columns (total 16 columns):\n",
      " #   Column                          Non-Null Count  Dtype  \n",
      "---  ------                          --------------  -----  \n",
      " 0   id                              48895 non-null  int64  \n",
      " 1   name                            48879 non-null  object \n",
      " 2   host_id                         48895 non-null  int64  \n",
      " 3   host_name                       48874 non-null  object \n",
      " 4   neighbourhood_group             48895 non-null  object \n",
      " 5   neighbourhood                   48895 non-null  object \n",
      " 6   latitude                        48895 non-null  float64\n",
      " 7   longitude                       48895 non-null  float64\n",
      " 8   room_type                       48895 non-null  object \n",
      " 9   price                           48895 non-null  int64  \n",
      " 10  minimum_nights                  48895 non-null  int64  \n",
      " 11  number_of_reviews               48895 non-null  int64  \n",
      " 12  last_review                     38843 non-null  object \n",
      " 13  reviews_per_month               38843 non-null  float64\n",
      " 14  calculated_host_listings_count  48895 non-null  int64  \n",
      " 15  availability_365                48895 non-null  int64  \n",
      "dtypes: float64(3), int64(7), object(6)\n",
      "memory usage: 6.0+ MB\n"
     ]
    }
   ],
   "source": [
    "#Getting information about dataset\n",
    "df.info()"
   ]
  },
  {
   "cell_type": "code",
   "execution_count": 7,
   "id": "53ebe6fc-007e-4a34-b5d5-6946bda2bf6e",
   "metadata": {},
   "outputs": [],
   "source": [
    "#This shows that we have some null values in some columns."
   ]
  },
  {
   "cell_type": "code",
   "execution_count": 8,
   "id": "1c2e0ed0-2671-4ecf-ba4c-c9e19e10d633",
   "metadata": {},
   "outputs": [
    {
     "data": {
      "text/html": [
       "<div>\n",
       "<style scoped>\n",
       "    .dataframe tbody tr th:only-of-type {\n",
       "        vertical-align: middle;\n",
       "    }\n",
       "\n",
       "    .dataframe tbody tr th {\n",
       "        vertical-align: top;\n",
       "    }\n",
       "\n",
       "    .dataframe thead th {\n",
       "        text-align: right;\n",
       "    }\n",
       "</style>\n",
       "<table border=\"1\" class=\"dataframe\">\n",
       "  <thead>\n",
       "    <tr style=\"text-align: right;\">\n",
       "      <th></th>\n",
       "      <th>id</th>\n",
       "      <th>name</th>\n",
       "      <th>host_id</th>\n",
       "      <th>host_name</th>\n",
       "      <th>neighbourhood_group</th>\n",
       "      <th>neighbourhood</th>\n",
       "      <th>latitude</th>\n",
       "      <th>longitude</th>\n",
       "      <th>room_type</th>\n",
       "      <th>price</th>\n",
       "      <th>minimum_nights</th>\n",
       "      <th>number_of_reviews</th>\n",
       "      <th>last_review</th>\n",
       "      <th>reviews_per_month</th>\n",
       "      <th>calculated_host_listings_count</th>\n",
       "      <th>availability_365</th>\n",
       "    </tr>\n",
       "  </thead>\n",
       "  <tbody>\n",
       "  </tbody>\n",
       "</table>\n",
       "</div>"
      ],
      "text/plain": [
       "Empty DataFrame\n",
       "Columns: [id, name, host_id, host_name, neighbourhood_group, neighbourhood, latitude, longitude, room_type, price, minimum_nights, number_of_reviews, last_review, reviews_per_month, calculated_host_listings_count, availability_365]\n",
       "Index: []"
      ]
     },
     "execution_count": 8,
     "metadata": {},
     "output_type": "execute_result"
    }
   ],
   "source": [
    "df[df.duplicated()]"
   ]
  },
  {
   "cell_type": "code",
   "execution_count": 9,
   "id": "89aa4c86-2b68-4f2c-81d6-edeae654a55c",
   "metadata": {},
   "outputs": [
    {
     "data": {
      "text/html": [
       "<div>\n",
       "<style scoped>\n",
       "    .dataframe tbody tr th:only-of-type {\n",
       "        vertical-align: middle;\n",
       "    }\n",
       "\n",
       "    .dataframe tbody tr th {\n",
       "        vertical-align: top;\n",
       "    }\n",
       "\n",
       "    .dataframe thead th {\n",
       "        text-align: right;\n",
       "    }\n",
       "</style>\n",
       "<table border=\"1\" class=\"dataframe\">\n",
       "  <thead>\n",
       "    <tr style=\"text-align: right;\">\n",
       "      <th></th>\n",
       "      <th>id</th>\n",
       "      <th>name</th>\n",
       "      <th>host_id</th>\n",
       "      <th>host_name</th>\n",
       "      <th>neighbourhood_group</th>\n",
       "      <th>neighbourhood</th>\n",
       "      <th>latitude</th>\n",
       "      <th>longitude</th>\n",
       "      <th>room_type</th>\n",
       "      <th>price</th>\n",
       "      <th>minimum_nights</th>\n",
       "      <th>number_of_reviews</th>\n",
       "      <th>last_review</th>\n",
       "      <th>reviews_per_month</th>\n",
       "      <th>calculated_host_listings_count</th>\n",
       "      <th>availability_365</th>\n",
       "    </tr>\n",
       "  </thead>\n",
       "  <tbody>\n",
       "    <tr>\n",
       "      <th>0</th>\n",
       "      <td>False</td>\n",
       "      <td>False</td>\n",
       "      <td>False</td>\n",
       "      <td>False</td>\n",
       "      <td>False</td>\n",
       "      <td>False</td>\n",
       "      <td>False</td>\n",
       "      <td>False</td>\n",
       "      <td>False</td>\n",
       "      <td>False</td>\n",
       "      <td>False</td>\n",
       "      <td>False</td>\n",
       "      <td>False</td>\n",
       "      <td>False</td>\n",
       "      <td>False</td>\n",
       "      <td>False</td>\n",
       "    </tr>\n",
       "    <tr>\n",
       "      <th>1</th>\n",
       "      <td>False</td>\n",
       "      <td>False</td>\n",
       "      <td>False</td>\n",
       "      <td>False</td>\n",
       "      <td>False</td>\n",
       "      <td>False</td>\n",
       "      <td>False</td>\n",
       "      <td>False</td>\n",
       "      <td>False</td>\n",
       "      <td>False</td>\n",
       "      <td>False</td>\n",
       "      <td>False</td>\n",
       "      <td>False</td>\n",
       "      <td>False</td>\n",
       "      <td>False</td>\n",
       "      <td>False</td>\n",
       "    </tr>\n",
       "    <tr>\n",
       "      <th>2</th>\n",
       "      <td>False</td>\n",
       "      <td>False</td>\n",
       "      <td>False</td>\n",
       "      <td>False</td>\n",
       "      <td>False</td>\n",
       "      <td>False</td>\n",
       "      <td>False</td>\n",
       "      <td>False</td>\n",
       "      <td>False</td>\n",
       "      <td>False</td>\n",
       "      <td>False</td>\n",
       "      <td>False</td>\n",
       "      <td>True</td>\n",
       "      <td>True</td>\n",
       "      <td>False</td>\n",
       "      <td>False</td>\n",
       "    </tr>\n",
       "    <tr>\n",
       "      <th>3</th>\n",
       "      <td>False</td>\n",
       "      <td>False</td>\n",
       "      <td>False</td>\n",
       "      <td>False</td>\n",
       "      <td>False</td>\n",
       "      <td>False</td>\n",
       "      <td>False</td>\n",
       "      <td>False</td>\n",
       "      <td>False</td>\n",
       "      <td>False</td>\n",
       "      <td>False</td>\n",
       "      <td>False</td>\n",
       "      <td>False</td>\n",
       "      <td>False</td>\n",
       "      <td>False</td>\n",
       "      <td>False</td>\n",
       "    </tr>\n",
       "    <tr>\n",
       "      <th>4</th>\n",
       "      <td>False</td>\n",
       "      <td>False</td>\n",
       "      <td>False</td>\n",
       "      <td>False</td>\n",
       "      <td>False</td>\n",
       "      <td>False</td>\n",
       "      <td>False</td>\n",
       "      <td>False</td>\n",
       "      <td>False</td>\n",
       "      <td>False</td>\n",
       "      <td>False</td>\n",
       "      <td>False</td>\n",
       "      <td>False</td>\n",
       "      <td>False</td>\n",
       "      <td>False</td>\n",
       "      <td>False</td>\n",
       "    </tr>\n",
       "    <tr>\n",
       "      <th>...</th>\n",
       "      <td>...</td>\n",
       "      <td>...</td>\n",
       "      <td>...</td>\n",
       "      <td>...</td>\n",
       "      <td>...</td>\n",
       "      <td>...</td>\n",
       "      <td>...</td>\n",
       "      <td>...</td>\n",
       "      <td>...</td>\n",
       "      <td>...</td>\n",
       "      <td>...</td>\n",
       "      <td>...</td>\n",
       "      <td>...</td>\n",
       "      <td>...</td>\n",
       "      <td>...</td>\n",
       "      <td>...</td>\n",
       "    </tr>\n",
       "    <tr>\n",
       "      <th>48890</th>\n",
       "      <td>False</td>\n",
       "      <td>False</td>\n",
       "      <td>False</td>\n",
       "      <td>False</td>\n",
       "      <td>False</td>\n",
       "      <td>False</td>\n",
       "      <td>False</td>\n",
       "      <td>False</td>\n",
       "      <td>False</td>\n",
       "      <td>False</td>\n",
       "      <td>False</td>\n",
       "      <td>False</td>\n",
       "      <td>True</td>\n",
       "      <td>True</td>\n",
       "      <td>False</td>\n",
       "      <td>False</td>\n",
       "    </tr>\n",
       "    <tr>\n",
       "      <th>48891</th>\n",
       "      <td>False</td>\n",
       "      <td>False</td>\n",
       "      <td>False</td>\n",
       "      <td>False</td>\n",
       "      <td>False</td>\n",
       "      <td>False</td>\n",
       "      <td>False</td>\n",
       "      <td>False</td>\n",
       "      <td>False</td>\n",
       "      <td>False</td>\n",
       "      <td>False</td>\n",
       "      <td>False</td>\n",
       "      <td>True</td>\n",
       "      <td>True</td>\n",
       "      <td>False</td>\n",
       "      <td>False</td>\n",
       "    </tr>\n",
       "    <tr>\n",
       "      <th>48892</th>\n",
       "      <td>False</td>\n",
       "      <td>False</td>\n",
       "      <td>False</td>\n",
       "      <td>False</td>\n",
       "      <td>False</td>\n",
       "      <td>False</td>\n",
       "      <td>False</td>\n",
       "      <td>False</td>\n",
       "      <td>False</td>\n",
       "      <td>False</td>\n",
       "      <td>False</td>\n",
       "      <td>False</td>\n",
       "      <td>True</td>\n",
       "      <td>True</td>\n",
       "      <td>False</td>\n",
       "      <td>False</td>\n",
       "    </tr>\n",
       "    <tr>\n",
       "      <th>48893</th>\n",
       "      <td>False</td>\n",
       "      <td>False</td>\n",
       "      <td>False</td>\n",
       "      <td>False</td>\n",
       "      <td>False</td>\n",
       "      <td>False</td>\n",
       "      <td>False</td>\n",
       "      <td>False</td>\n",
       "      <td>False</td>\n",
       "      <td>False</td>\n",
       "      <td>False</td>\n",
       "      <td>False</td>\n",
       "      <td>True</td>\n",
       "      <td>True</td>\n",
       "      <td>False</td>\n",
       "      <td>False</td>\n",
       "    </tr>\n",
       "    <tr>\n",
       "      <th>48894</th>\n",
       "      <td>False</td>\n",
       "      <td>False</td>\n",
       "      <td>False</td>\n",
       "      <td>False</td>\n",
       "      <td>False</td>\n",
       "      <td>False</td>\n",
       "      <td>False</td>\n",
       "      <td>False</td>\n",
       "      <td>False</td>\n",
       "      <td>False</td>\n",
       "      <td>False</td>\n",
       "      <td>False</td>\n",
       "      <td>True</td>\n",
       "      <td>True</td>\n",
       "      <td>False</td>\n",
       "      <td>False</td>\n",
       "    </tr>\n",
       "  </tbody>\n",
       "</table>\n",
       "<p>48895 rows × 16 columns</p>\n",
       "</div>"
      ],
      "text/plain": [
       "          id   name  host_id  host_name  neighbourhood_group  neighbourhood  \\\n",
       "0      False  False    False      False                False          False   \n",
       "1      False  False    False      False                False          False   \n",
       "2      False  False    False      False                False          False   \n",
       "3      False  False    False      False                False          False   \n",
       "4      False  False    False      False                False          False   \n",
       "...      ...    ...      ...        ...                  ...            ...   \n",
       "48890  False  False    False      False                False          False   \n",
       "48891  False  False    False      False                False          False   \n",
       "48892  False  False    False      False                False          False   \n",
       "48893  False  False    False      False                False          False   \n",
       "48894  False  False    False      False                False          False   \n",
       "\n",
       "       latitude  longitude  room_type  price  minimum_nights  \\\n",
       "0         False      False      False  False           False   \n",
       "1         False      False      False  False           False   \n",
       "2         False      False      False  False           False   \n",
       "3         False      False      False  False           False   \n",
       "4         False      False      False  False           False   \n",
       "...         ...        ...        ...    ...             ...   \n",
       "48890     False      False      False  False           False   \n",
       "48891     False      False      False  False           False   \n",
       "48892     False      False      False  False           False   \n",
       "48893     False      False      False  False           False   \n",
       "48894     False      False      False  False           False   \n",
       "\n",
       "       number_of_reviews  last_review  reviews_per_month  \\\n",
       "0                  False        False              False   \n",
       "1                  False        False              False   \n",
       "2                  False         True               True   \n",
       "3                  False        False              False   \n",
       "4                  False        False              False   \n",
       "...                  ...          ...                ...   \n",
       "48890              False         True               True   \n",
       "48891              False         True               True   \n",
       "48892              False         True               True   \n",
       "48893              False         True               True   \n",
       "48894              False         True               True   \n",
       "\n",
       "       calculated_host_listings_count  availability_365  \n",
       "0                               False             False  \n",
       "1                               False             False  \n",
       "2                               False             False  \n",
       "3                               False             False  \n",
       "4                               False             False  \n",
       "...                               ...               ...  \n",
       "48890                           False             False  \n",
       "48891                           False             False  \n",
       "48892                           False             False  \n",
       "48893                           False             False  \n",
       "48894                           False             False  \n",
       "\n",
       "[48895 rows x 16 columns]"
      ]
     },
     "execution_count": 9,
     "metadata": {},
     "output_type": "execute_result"
    }
   ],
   "source": [
    "# Let's find whether the dataFrame contains null values or not.\n",
    "df.isnull()"
   ]
  },
  {
   "cell_type": "code",
   "execution_count": 10,
   "id": "f9cc1006-6019-49e6-baed-3ae7cc975048",
   "metadata": {},
   "outputs": [
    {
     "data": {
      "text/plain": [
       "id                                    0\n",
       "name                                 16\n",
       "host_id                               0\n",
       "host_name                            21\n",
       "neighbourhood_group                   0\n",
       "neighbourhood                         0\n",
       "latitude                              0\n",
       "longitude                             0\n",
       "room_type                             0\n",
       "price                                 0\n",
       "minimum_nights                        0\n",
       "number_of_reviews                     0\n",
       "last_review                       10052\n",
       "reviews_per_month                 10052\n",
       "calculated_host_listings_count        0\n",
       "availability_365                      0\n",
       "dtype: int64"
      ]
     },
     "execution_count": 10,
     "metadata": {},
     "output_type": "execute_result"
    }
   ],
   "source": [
    "df.isnull().sum()"
   ]
  },
  {
   "cell_type": "code",
   "execution_count": 11,
   "id": "e4888501-b783-4ea6-974a-e5aa72a4bc2f",
   "metadata": {},
   "outputs": [],
   "source": [
    "# As null values of name and host_name are very few , so drop them.\n",
    "df.dropna(subset = ['name','host_name'],inplace = True)"
   ]
  },
  {
   "cell_type": "code",
   "execution_count": 12,
   "id": "ce69f216-3b50-4e09-aaa8-80e9b23381ba",
   "metadata": {},
   "outputs": [
    {
     "name": "stdout",
     "output_type": "stream",
     "text": [
      "<class 'pandas.core.frame.DataFrame'>\n",
      "Index: 48858 entries, 0 to 48894\n",
      "Data columns (total 16 columns):\n",
      " #   Column                          Non-Null Count  Dtype  \n",
      "---  ------                          --------------  -----  \n",
      " 0   id                              48858 non-null  int64  \n",
      " 1   name                            48858 non-null  object \n",
      " 2   host_id                         48858 non-null  int64  \n",
      " 3   host_name                       48858 non-null  object \n",
      " 4   neighbourhood_group             48858 non-null  object \n",
      " 5   neighbourhood                   48858 non-null  object \n",
      " 6   latitude                        48858 non-null  float64\n",
      " 7   longitude                       48858 non-null  float64\n",
      " 8   room_type                       48858 non-null  object \n",
      " 9   price                           48858 non-null  int64  \n",
      " 10  minimum_nights                  48858 non-null  int64  \n",
      " 11  number_of_reviews               48858 non-null  int64  \n",
      " 12  last_review                     38821 non-null  object \n",
      " 13  reviews_per_month               38821 non-null  float64\n",
      " 14  calculated_host_listings_count  48858 non-null  int64  \n",
      " 15  availability_365                48858 non-null  int64  \n",
      "dtypes: float64(3), int64(7), object(6)\n",
      "memory usage: 6.3+ MB\n"
     ]
    }
   ],
   "source": [
    "df.info()\n",
    "# Now we are left with 48858 rows.df"
   ]
  },
  {
   "cell_type": "code",
   "execution_count": 13,
   "id": "6ab1e396-18d8-45de-abe2-4128e9994dfa",
   "metadata": {},
   "outputs": [
    {
     "data": {
      "text/plain": [
       "id                                    0\n",
       "name                                  0\n",
       "host_id                               0\n",
       "host_name                             0\n",
       "neighbourhood_group                   0\n",
       "neighbourhood                         0\n",
       "latitude                              0\n",
       "longitude                             0\n",
       "room_type                             0\n",
       "price                                 0\n",
       "minimum_nights                        0\n",
       "number_of_reviews                     0\n",
       "last_review                       10037\n",
       "reviews_per_month                 10037\n",
       "calculated_host_listings_count        0\n",
       "availability_365                      0\n",
       "dtype: int64"
      ]
     },
     "execution_count": 13,
     "metadata": {},
     "output_type": "execute_result"
    }
   ],
   "source": [
    "df.isnull().sum()"
   ]
  },
  {
   "cell_type": "code",
   "execution_count": 14,
   "id": "8527a7d4-5216-4250-8dd1-270205c3f62b",
   "metadata": {},
   "outputs": [
    {
     "data": {
      "text/plain": [
       "id                                  int64\n",
       "name                               object\n",
       "host_id                             int64\n",
       "host_name                          object\n",
       "neighbourhood_group                object\n",
       "neighbourhood                      object\n",
       "latitude                          float64\n",
       "longitude                         float64\n",
       "room_type                          object\n",
       "price                               int64\n",
       "minimum_nights                      int64\n",
       "number_of_reviews                   int64\n",
       "last_review                        object\n",
       "reviews_per_month                 float64\n",
       "calculated_host_listings_count      int64\n",
       "availability_365                    int64\n",
       "dtype: object"
      ]
     },
     "execution_count": 14,
     "metadata": {},
     "output_type": "execute_result"
    }
   ],
   "source": [
    "df.dtypes"
   ]
  },
  {
   "cell_type": "code",
   "execution_count": 15,
   "id": "7e5c0995-3ce7-49fa-b18e-771709539684",
   "metadata": {},
   "outputs": [
    {
     "name": "stderr",
     "output_type": "stream",
     "text": [
      "C:\\Users\\raghu\\AppData\\Local\\Temp\\ipykernel_19004\\663725297.py:2: FutureWarning: DataFrame.fillna with 'method' is deprecated and will raise in a future version. Use obj.ffill() or obj.bfill() instead.\n",
      "  df.fillna(method=\"ffill\" , inplace = True)\n"
     ]
    }
   ],
   "source": [
    "# so lets fill the missing values of last review and reviews per month.\n",
    "df.fillna(method=\"ffill\" , inplace = True)"
   ]
  },
  {
   "cell_type": "code",
   "execution_count": 16,
   "id": "d1f21044-cb13-4733-a42c-b0de49b62050",
   "metadata": {},
   "outputs": [
    {
     "data": {
      "text/plain": [
       "id                                0\n",
       "name                              0\n",
       "host_id                           0\n",
       "host_name                         0\n",
       "neighbourhood_group               0\n",
       "neighbourhood                     0\n",
       "latitude                          0\n",
       "longitude                         0\n",
       "room_type                         0\n",
       "price                             0\n",
       "minimum_nights                    0\n",
       "number_of_reviews                 0\n",
       "last_review                       0\n",
       "reviews_per_month                 0\n",
       "calculated_host_listings_count    0\n",
       "availability_365                  0\n",
       "dtype: int64"
      ]
     },
     "execution_count": 16,
     "metadata": {},
     "output_type": "execute_result"
    }
   ],
   "source": [
    "df.isnull().sum()"
   ]
  },
  {
   "cell_type": "code",
   "execution_count": 17,
   "id": "14a1477d-4189-47fe-9ace-0ce55dd58220",
   "metadata": {},
   "outputs": [],
   "source": [
    "# So now , we didn't have any null values in data.\n",
    "# So lets check the data by downloading it."
   ]
  },
  {
   "cell_type": "code",
   "execution_count": 18,
   "id": "1e93c0e2-a475-4520-be44-7c4071c35c8d",
   "metadata": {},
   "outputs": [],
   "source": [
    "df.to_csv('data_cleaning.csv')"
   ]
  },
  {
   "cell_type": "code",
   "execution_count": 19,
   "id": "27fa2787-f165-4d15-b96f-9d9cfbc099d4",
   "metadata": {},
   "outputs": [],
   "source": [
    "# But there is one case , when we perform fillna , we fill the last_review and reviews per month of that rows too , which have 0 number of reviews.\n",
    "# So, we also have to normalise it.\n",
    "# But before it lets find the outliers in the dataFrame and if present , Let's remove them."
   ]
  },
  {
   "cell_type": "markdown",
   "id": "f47e2479-9cdb-4fb1-ae3d-a9583a9b294b",
   "metadata": {},
   "source": [
    "**Finding OutLiers**"
   ]
  },
  {
   "cell_type": "code",
   "execution_count": 20,
   "id": "f3968f64-0808-4d00-bcb2-7636d793123a",
   "metadata": {},
   "outputs": [],
   "source": [
    "# we have to find outliers in the columns like price , minimum nights , number of reviews , reviews per month, calculated host listing counts etc."
   ]
  },
  {
   "cell_type": "code",
   "execution_count": 21,
   "id": "7b37b234-2834-4657-8edc-f76f8f79da9f",
   "metadata": {},
   "outputs": [
    {
     "data": {
      "text/plain": [
       "{'whiskers': [<matplotlib.lines.Line2D at 0x25af5916e50>,\n",
       "  <matplotlib.lines.Line2D at 0x25af5916390>,\n",
       "  <matplotlib.lines.Line2D at 0x25af76d54d0>,\n",
       "  <matplotlib.lines.Line2D at 0x25af76d57d0>,\n",
       "  <matplotlib.lines.Line2D at 0x25af7111e90>,\n",
       "  <matplotlib.lines.Line2D at 0x25af76b7ed0>],\n",
       " 'caps': [<matplotlib.lines.Line2D at 0x25af5852450>,\n",
       "  <matplotlib.lines.Line2D at 0x25af8261b10>,\n",
       "  <matplotlib.lines.Line2D at 0x25af6e21e10>,\n",
       "  <matplotlib.lines.Line2D at 0x25af76d8290>,\n",
       "  <matplotlib.lines.Line2D at 0x25af76b5290>,\n",
       "  <matplotlib.lines.Line2D at 0x25af76bf490>],\n",
       " 'boxes': [<matplotlib.lines.Line2D at 0x25af591e450>,\n",
       "  <matplotlib.lines.Line2D at 0x25af76d75d0>,\n",
       "  <matplotlib.lines.Line2D at 0x25af76dbed0>],\n",
       " 'medians': [<matplotlib.lines.Line2D at 0x25af8260f50>,\n",
       "  <matplotlib.lines.Line2D at 0x25af76db1d0>,\n",
       "  <matplotlib.lines.Line2D at 0x25af6f2d8d0>],\n",
       " 'fliers': [<matplotlib.lines.Line2D at 0x25af76cd450>,\n",
       "  <matplotlib.lines.Line2D at 0x25af76db410>,\n",
       "  <matplotlib.lines.Line2D at 0x25af8220150>],\n",
       " 'means': [<matplotlib.lines.Line2D at 0x25af8260450>,\n",
       "  <matplotlib.lines.Line2D at 0x25af76d94d0>,\n",
       "  <matplotlib.lines.Line2D at 0x25af7119dd0>]}"
      ]
     },
     "execution_count": 21,
     "metadata": {},
     "output_type": "execute_result"
    },
    {
     "data": {
      "image/png": "[encoded data removed]",
      "text/plain": [
       "<Figure size 640x480 with 1 Axes>"
      ]
     },
     "metadata": {},
     "output_type": "display_data"
    }
   ],
   "source": [
    "x1 = df['price']\n",
    "x2 = df['minimum_nights']\n",
    "x3 = df['number_of_reviews']\n",
    "x = [x1,x2,x3]\n",
    "plt.boxplot(x , showmeans = True , tick_labels = [\"price\" , \"minimum_nights\", \"number_of_reviews\"])"
   ]
  },
  {
   "cell_type": "code",
   "execution_count": 22,
   "id": "99d238be-e814-499b-a35e-c81adce20ece",
   "metadata": {},
   "outputs": [
    {
     "data": {
      "text/plain": [
       "{'whiskers': [<matplotlib.lines.Line2D at 0x25af7f9e790>,\n",
       "  <matplotlib.lines.Line2D at 0x25af7f9dd10>],\n",
       " 'caps': [<matplotlib.lines.Line2D at 0x25af7f9d150>,\n",
       "  <matplotlib.lines.Line2D at 0x25af7fa75d0>],\n",
       " 'boxes': [<matplotlib.lines.Line2D at 0x25af7f9f350>],\n",
       " 'medians': [<matplotlib.lines.Line2D at 0x25af7f93d50>],\n",
       " 'fliers': [<matplotlib.lines.Line2D at 0x25af7f92890>],\n",
       " 'means': [<matplotlib.lines.Line2D at 0x25af7f93290>]}"
      ]
     },
     "execution_count": 22,
     "metadata": {},
     "output_type": "execute_result"
    },
    {
     "data": {
      "image/png": "[encoded data removed]",
      "text/plain": [
       "<Figure size 640x480 with 1 Axes>"
      ]
     },
     "metadata": {},
     "output_type": "display_data"
    }
   ],
   "source": [
    "plt.boxplot(x1, showmeans = True)"
   ]
  },
  {
   "cell_type": "code",
   "execution_count": 23,
   "id": "83cf7324-d911-4c37-b3f4-3786e5e6b627",
   "metadata": {},
   "outputs": [],
   "source": [
    "# so we find too much outliers in the above plot.\n",
    "# So, lets find out how we can adjust them ."
   ]
  },
  {
   "cell_type": "code",
   "execution_count": 24,
   "id": "f171a66e-e560-43cd-906f-68d14f385048",
   "metadata": {},
   "outputs": [
    {
     "data": {
      "text/plain": [
       "id                                153\n",
       "name                              153\n",
       "host_id                           153\n",
       "host_name                         153\n",
       "neighbourhood_group               153\n",
       "neighbourhood                     153\n",
       "latitude                          153\n",
       "longitude                         153\n",
       "room_type                         153\n",
       "price                             153\n",
       "minimum_nights                    153\n",
       "number_of_reviews                 153\n",
       "last_review                       153\n",
       "reviews_per_month                 153\n",
       "calculated_host_listings_count    153\n",
       "availability_365                  153\n",
       "dtype: int64"
      ]
     },
     "execution_count": 24,
     "metadata": {},
     "output_type": "execute_result"
    }
   ],
   "source": [
    "# lets see number of values which have price between 1000 and 2000\n",
    "df[(df['price'] > 1000) & (df['price'] <= 2000)].count()"
   ]
  },
  {
   "cell_type": "code",
   "execution_count": 25,
   "id": "a042356b-2686-4721-998d-2179b74ebd22",
   "metadata": {},
   "outputs": [
    {
     "data": {
      "text/plain": [
       "id                                239\n",
       "name                              239\n",
       "host_id                           239\n",
       "host_name                         239\n",
       "neighbourhood_group               239\n",
       "neighbourhood                     239\n",
       "latitude                          239\n",
       "longitude                         239\n",
       "room_type                         239\n",
       "price                             239\n",
       "minimum_nights                    239\n",
       "number_of_reviews                 239\n",
       "last_review                       239\n",
       "reviews_per_month                 239\n",
       "calculated_host_listings_count    239\n",
       "availability_365                  239\n",
       "dtype: int64"
      ]
     },
     "execution_count": 25,
     "metadata": {},
     "output_type": "execute_result"
    }
   ],
   "source": [
    "# lets see number of rows which have price between 1000 and 10000\n",
    "df[(df['price'] > 1000 ) & (df['price'] <= 10000)].count()"
   ]
  },
  {
   "cell_type": "code",
   "execution_count": 26,
   "id": "05fb63ef-d512-4695-819c-99b59094a05d",
   "metadata": {},
   "outputs": [
    {
     "name": "stdout",
     "output_type": "stream",
     "text": [
      "<class 'pandas.core.frame.DataFrame'>\n",
      "Index: 48858 entries, 0 to 48894\n",
      "Data columns (total 16 columns):\n",
      " #   Column                          Non-Null Count  Dtype  \n",
      "---  ------                          --------------  -----  \n",
      " 0   id                              48858 non-null  int64  \n",
      " 1   name                            48858 non-null  object \n",
      " 2   host_id                         48858 non-null  int64  \n",
      " 3   host_name                       48858 non-null  object \n",
      " 4   neighbourhood_group             48858 non-null  object \n",
      " 5   neighbourhood                   48858 non-null  object \n",
      " 6   latitude                        48858 non-null  float64\n",
      " 7   longitude                       48858 non-null  float64\n",
      " 8   room_type                       48858 non-null  object \n",
      " 9   price                           48858 non-null  int64  \n",
      " 10  minimum_nights                  48858 non-null  int64  \n",
      " 11  number_of_reviews               48858 non-null  int64  \n",
      " 12  last_review                     48858 non-null  object \n",
      " 13  reviews_per_month               48858 non-null  float64\n",
      " 14  calculated_host_listings_count  48858 non-null  int64  \n",
      " 15  availability_365                48858 non-null  int64  \n",
      "dtypes: float64(3), int64(7), object(6)\n",
      "memory usage: 6.3+ MB\n"
     ]
    }
   ],
   "source": [
    "df.info()"
   ]
  },
  {
   "cell_type": "code",
   "execution_count": 27,
   "id": "fc3f5b2d-9daa-4b27-a738-a172a44ec7c3",
   "metadata": {},
   "outputs": [],
   "source": [
    "# So we have total of 236 outliers values in price, so lets remove them .\n",
    "# we will drop the rows by using their index.\n",
    "index_def = df[(df['price'] > 1000) & (df['price'] <= 10000)].index"
   ]
  },
  {
   "cell_type": "code",
   "execution_count": 28,
   "id": "e1e2c45b-1fc7-46ba-af42-76e82f9fdca9",
   "metadata": {},
   "outputs": [],
   "source": [
    "df = df.drop(index_def)"
   ]
  },
  {
   "cell_type": "code",
   "execution_count": 29,
   "id": "5787e722-a544-4627-9652-c880987d3107",
   "metadata": {},
   "outputs": [
    {
     "name": "stdout",
     "output_type": "stream",
     "text": [
      "<class 'pandas.core.frame.DataFrame'>\n",
      "Index: 48619 entries, 0 to 48894\n",
      "Data columns (total 16 columns):\n",
      " #   Column                          Non-Null Count  Dtype  \n",
      "---  ------                          --------------  -----  \n",
      " 0   id                              48619 non-null  int64  \n",
      " 1   name                            48619 non-null  object \n",
      " 2   host_id                         48619 non-null  int64  \n",
      " 3   host_name                       48619 non-null  object \n",
      " 4   neighbourhood_group             48619 non-null  object \n",
      " 5   neighbourhood                   48619 non-null  object \n",
      " 6   latitude                        48619 non-null  float64\n",
      " 7   longitude                       48619 non-null  float64\n",
      " 8   room_type                       48619 non-null  object \n",
      " 9   price                           48619 non-null  int64  \n",
      " 10  minimum_nights                  48619 non-null  int64  \n",
      " 11  number_of_reviews               48619 non-null  int64  \n",
      " 12  last_review                     48619 non-null  object \n",
      " 13  reviews_per_month               48619 non-null  float64\n",
      " 14  calculated_host_listings_count  48619 non-null  int64  \n",
      " 15  availability_365                48619 non-null  int64  \n",
      "dtypes: float64(3), int64(7), object(6)\n",
      "memory usage: 6.3+ MB\n"
     ]
    }
   ],
   "source": [
    "df.info()"
   ]
  },
  {
   "cell_type": "code",
   "execution_count": 30,
   "id": "78f94f28-1a9d-4197-8939-f67306ac7039",
   "metadata": {},
   "outputs": [
    {
     "data": {
      "text/plain": [
       "{'whiskers': [<matplotlib.lines.Line2D at 0x25af8269610>,\n",
       "  <matplotlib.lines.Line2D at 0x25af826a210>],\n",
       " 'caps': [<matplotlib.lines.Line2D at 0x25af826ad50>,\n",
       "  <matplotlib.lines.Line2D at 0x25af826b890>],\n",
       " 'boxes': [<matplotlib.lines.Line2D at 0x25af8268b90>],\n",
       " 'medians': [<matplotlib.lines.Line2D at 0x25af82d8450>],\n",
       " 'fliers': [<matplotlib.lines.Line2D at 0x25af82d94d0>],\n",
       " 'means': [<matplotlib.lines.Line2D at 0x25af82d8fd0>]}"
      ]
     },
     "execution_count": 30,
     "metadata": {},
     "output_type": "execute_result"
    },
    {
     "data": {
      "image/png": "[encoded data removed]",
      "text/plain": [
       "<Figure size 640x480 with 1 Axes>"
      ]
     },
     "metadata": {},
     "output_type": "display_data"
    }
   ],
   "source": [
    "# so, now we have removed outliers rows for price , let's check once again.\n",
    "y1 = df['price']\n",
    "plt.boxplot(y1,showmeans = True)\n",
    "# so, now we can see that we have removed outliers for price to a certain extent/"
   ]
  },
  {
   "cell_type": "code",
   "execution_count": 31,
   "id": "7b36957a-a411-49a3-8ec4-f54753067aa1",
   "metadata": {},
   "outputs": [
    {
     "data": {
      "text/plain": [
       "{'whiskers': [<matplotlib.lines.Line2D at 0x25af8281010>,\n",
       "  <matplotlib.lines.Line2D at 0x25af8280510>],\n",
       " 'caps': [<matplotlib.lines.Line2D at 0x25af828f890>,\n",
       "  <matplotlib.lines.Line2D at 0x25af828ed90>],\n",
       " 'boxes': [<matplotlib.lines.Line2D at 0x25af82fc750>],\n",
       " 'medians': [<matplotlib.lines.Line2D at 0x25af828e290>],\n",
       " 'fliers': [<matplotlib.lines.Line2D at 0x25af828cd10>],\n",
       " 'means': [<matplotlib.lines.Line2D at 0x25af828d790>]}"
      ]
     },
     "execution_count": 31,
     "metadata": {},
     "output_type": "execute_result"
    },
    {
     "data": {
      "image/png": "[encoded data removed]",
      "text/plain": [
       "<Figure size 640x480 with 1 Axes>"
      ]
     },
     "metadata": {},
     "output_type": "display_data"
    }
   ],
   "source": [
    "# Now let's have a look at outliers for minimum nights\n",
    "y2 = df['minimum_nights']\n",
    "plt.boxplot(y2,showmeans = True)"
   ]
  },
  {
   "cell_type": "code",
   "execution_count": 32,
   "id": "962388fa-2396-43a7-8ae5-f7e7f13ba27c",
   "metadata": {},
   "outputs": [
    {
     "data": {
      "text/plain": [
       "id                                46\n",
       "name                              46\n",
       "host_id                           46\n",
       "host_name                         46\n",
       "neighbourhood_group               46\n",
       "neighbourhood                     46\n",
       "latitude                          46\n",
       "longitude                         46\n",
       "room_type                         46\n",
       "price                             46\n",
       "minimum_nights                    46\n",
       "number_of_reviews                 46\n",
       "last_review                       46\n",
       "reviews_per_month                 46\n",
       "calculated_host_listings_count    46\n",
       "availability_365                  46\n",
       "dtype: int64"
      ]
     },
     "execution_count": 32,
     "metadata": {},
     "output_type": "execute_result"
    }
   ],
   "source": [
    "#so we can see that here we can see outliers\n",
    "# Lets's count values beteen 300 and 1300\n",
    "df[(df['minimum_nights'] > 300) & (df['minimum_nights'] < 1300)].count()"
   ]
  },
  {
   "cell_type": "code",
   "execution_count": 33,
   "id": "ac0b1e46-b45a-4707-93cc-6b5b1e58ef22",
   "metadata": {},
   "outputs": [
    {
     "name": "stdout",
     "output_type": "stream",
     "text": [
      "<class 'pandas.core.frame.DataFrame'>\n",
      "Index: 48619 entries, 0 to 48894\n",
      "Data columns (total 16 columns):\n",
      " #   Column                          Non-Null Count  Dtype  \n",
      "---  ------                          --------------  -----  \n",
      " 0   id                              48619 non-null  int64  \n",
      " 1   name                            48619 non-null  object \n",
      " 2   host_id                         48619 non-null  int64  \n",
      " 3   host_name                       48619 non-null  object \n",
      " 4   neighbourhood_group             48619 non-null  object \n",
      " 5   neighbourhood                   48619 non-null  object \n",
      " 6   latitude                        48619 non-null  float64\n",
      " 7   longitude                       48619 non-null  float64\n",
      " 8   room_type                       48619 non-null  object \n",
      " 9   price                           48619 non-null  int64  \n",
      " 10  minimum_nights                  48619 non-null  int64  \n",
      " 11  number_of_reviews               48619 non-null  int64  \n",
      " 12  last_review                     48619 non-null  object \n",
      " 13  reviews_per_month               48619 non-null  float64\n",
      " 14  calculated_host_listings_count  48619 non-null  int64  \n",
      " 15  availability_365                48619 non-null  int64  \n",
      "dtypes: float64(3), int64(7), object(6)\n",
      "memory usage: 6.3+ MB\n"
     ]
    }
   ],
   "source": [
    "df.info()\n",
    "# we have total of 48619 rows, so we can still remove some of them."
   ]
  },
  {
   "cell_type": "code",
   "execution_count": 34,
   "id": "b2c0b4c1-7a71-4ae4-a23d-6cd80792cf97",
   "metadata": {},
   "outputs": [],
   "source": [
    "#so , we have total of 46 that values , so let's remove them.\n",
    "index_def1 = df[(df['minimum_nights'] > 300) & (df['minimum_nights'] < 1300)].index\n",
    "df = df.drop(index_def1)"
   ]
  },
  {
   "cell_type": "code",
   "execution_count": 35,
   "id": "654aff58-331e-4bb8-9f1e-c195cb215e86",
   "metadata": {},
   "outputs": [
    {
     "name": "stdout",
     "output_type": "stream",
     "text": [
      "<class 'pandas.core.frame.DataFrame'>\n",
      "Index: 48573 entries, 0 to 48894\n",
      "Data columns (total 16 columns):\n",
      " #   Column                          Non-Null Count  Dtype  \n",
      "---  ------                          --------------  -----  \n",
      " 0   id                              48573 non-null  int64  \n",
      " 1   name                            48573 non-null  object \n",
      " 2   host_id                         48573 non-null  int64  \n",
      " 3   host_name                       48573 non-null  object \n",
      " 4   neighbourhood_group             48573 non-null  object \n",
      " 5   neighbourhood                   48573 non-null  object \n",
      " 6   latitude                        48573 non-null  float64\n",
      " 7   longitude                       48573 non-null  float64\n",
      " 8   room_type                       48573 non-null  object \n",
      " 9   price                           48573 non-null  int64  \n",
      " 10  minimum_nights                  48573 non-null  int64  \n",
      " 11  number_of_reviews               48573 non-null  int64  \n",
      " 12  last_review                     48573 non-null  object \n",
      " 13  reviews_per_month               48573 non-null  float64\n",
      " 14  calculated_host_listings_count  48573 non-null  int64  \n",
      " 15  availability_365                48573 non-null  int64  \n",
      "dtypes: float64(3), int64(7), object(6)\n",
      "memory usage: 6.3+ MB\n"
     ]
    }
   ],
   "source": [
    "df.info()"
   ]
  },
  {
   "cell_type": "code",
   "execution_count": 36,
   "id": "46225b47-1497-4ca7-8535-24c6d21af1a3",
   "metadata": {},
   "outputs": [
    {
     "data": {
      "text/plain": [
       "{'whiskers': [<matplotlib.lines.Line2D at 0x25af7b0cf90>,\n",
       "  <matplotlib.lines.Line2D at 0x25af7b0db10>],\n",
       " 'caps': [<matplotlib.lines.Line2D at 0x25af7b0e6d0>,\n",
       "  <matplotlib.lines.Line2D at 0x25af7b0f1d0>],\n",
       " 'boxes': [<matplotlib.lines.Line2D at 0x25af7b0c690>],\n",
       " 'medians': [<matplotlib.lines.Line2D at 0x25af7b0fd10>],\n",
       " 'fliers': [<matplotlib.lines.Line2D at 0x25af7b192d0>],\n",
       " 'means': [<matplotlib.lines.Line2D at 0x25af7b18850>]}"
      ]
     },
     "execution_count": 36,
     "metadata": {},
     "output_type": "execute_result"
    },
    {
     "data": {
      "image/png": "[encoded data removed]",
      "text/plain": [
       "<Figure size 640x480 with 1 Axes>"
      ]
     },
     "metadata": {},
     "output_type": "display_data"
    }
   ],
   "source": [
    "# we successfully removed the certain outliers for minimum_nights and now we are left with 48563 rows in our dataframe.\n",
    "#Let's again check the outliers for minimum nights.\n",
    "y3 = df['minimum_nights']\n",
    "plt.boxplot(y3,showmeans = True)"
   ]
  },
  {
   "cell_type": "code",
   "execution_count": 37,
   "id": "665a88b9-b0bc-4f01-bf31-0ce383ff9470",
   "metadata": {},
   "outputs": [
    {
     "data": {
      "text/plain": [
       "{'whiskers': [<matplotlib.lines.Line2D at 0x25af7b7ca90>,\n",
       "  <matplotlib.lines.Line2D at 0x25af7b7d710>],\n",
       " 'caps': [<matplotlib.lines.Line2D at 0x25af7b7e310>,\n",
       "  <matplotlib.lines.Line2D at 0x25af7b7ee50>],\n",
       " 'boxes': [<matplotlib.lines.Line2D at 0x25af7b6ffd0>],\n",
       " 'medians': [<matplotlib.lines.Line2D at 0x25af7b7f910>],\n",
       " 'fliers': [<matplotlib.lines.Line2D at 0x25af7b84ed0>],\n",
       " 'means': [<matplotlib.lines.Line2D at 0x25af7b84310>]}"
      ]
     },
     "execution_count": 37,
     "metadata": {},
     "output_type": "execute_result"
    },
    {
     "data": {
      "image/png": "[encoded data removed]",
      "text/plain": [
       "<Figure size 640x480 with 1 Axes>"
      ]
     },
     "metadata": {},
     "output_type": "display_data"
    }
   ],
   "source": [
    "# check the outliers for reviews per month.\n",
    "y4 = df['reviews_per_month']\n",
    "plt.boxplot(y4,showmeans = True)"
   ]
  },
  {
   "cell_type": "code",
   "execution_count": 38,
   "id": "d4c0d075-5b4e-4600-a76d-13fb490fe529",
   "metadata": {},
   "outputs": [
    {
     "data": {
      "text/plain": [
       "id                                15\n",
       "name                              15\n",
       "host_id                           15\n",
       "host_name                         15\n",
       "neighbourhood_group               15\n",
       "neighbourhood                     15\n",
       "latitude                          15\n",
       "longitude                         15\n",
       "room_type                         15\n",
       "price                             15\n",
       "minimum_nights                    15\n",
       "number_of_reviews                 15\n",
       "last_review                       15\n",
       "reviews_per_month                 15\n",
       "calculated_host_listings_count    15\n",
       "availability_365                  15\n",
       "dtype: int64"
      ]
     },
     "execution_count": 38,
     "metadata": {},
     "output_type": "execute_result"
    }
   ],
   "source": [
    "#removing the outliers for reviews per month\n",
    "df[(df['reviews_per_month'] > 15) & (df['reviews_per_month'] < 100)].count()"
   ]
  },
  {
   "cell_type": "code",
   "execution_count": 39,
   "id": "1b335c6a-bc5f-4329-9ee2-df8704de4308",
   "metadata": {},
   "outputs": [],
   "source": [
    "# we have total of 48573 rows available\n",
    "index_def2 = df[(df['reviews_per_month'] > 15) & (df['reviews_per_month'] < 100)].index\n",
    "df = df.drop(index_def2)"
   ]
  },
  {
   "cell_type": "code",
   "execution_count": 40,
   "id": "440738cb-2a5a-46c5-a6a7-4b0483bdb69a",
   "metadata": {},
   "outputs": [
    {
     "name": "stdout",
     "output_type": "stream",
     "text": [
      "<class 'pandas.core.frame.DataFrame'>\n",
      "Index: 48558 entries, 0 to 48894\n",
      "Data columns (total 16 columns):\n",
      " #   Column                          Non-Null Count  Dtype  \n",
      "---  ------                          --------------  -----  \n",
      " 0   id                              48558 non-null  int64  \n",
      " 1   name                            48558 non-null  object \n",
      " 2   host_id                         48558 non-null  int64  \n",
      " 3   host_name                       48558 non-null  object \n",
      " 4   neighbourhood_group             48558 non-null  object \n",
      " 5   neighbourhood                   48558 non-null  object \n",
      " 6   latitude                        48558 non-null  float64\n",
      " 7   longitude                       48558 non-null  float64\n",
      " 8   room_type                       48558 non-null  object \n",
      " 9   price                           48558 non-null  int64  \n",
      " 10  minimum_nights                  48558 non-null  int64  \n",
      " 11  number_of_reviews               48558 non-null  int64  \n",
      " 12  last_review                     48558 non-null  object \n",
      " 13  reviews_per_month               48558 non-null  float64\n",
      " 14  calculated_host_listings_count  48558 non-null  int64  \n",
      " 15  availability_365                48558 non-null  int64  \n",
      "dtypes: float64(3), int64(7), object(6)\n",
      "memory usage: 6.3+ MB\n"
     ]
    }
   ],
   "source": [
    "df.info()"
   ]
  },
  {
   "cell_type": "code",
   "execution_count": 41,
   "id": "662f5efd-37fb-4d35-b9b4-ad25f41b8fb9",
   "metadata": {},
   "outputs": [
    {
     "data": {
      "text/plain": [
       "{'whiskers': [<matplotlib.lines.Line2D at 0x25af86f5b10>,\n",
       "  <matplotlib.lines.Line2D at 0x25af86f6690>],\n",
       " 'caps': [<matplotlib.lines.Line2D at 0x25af86f71d0>,\n",
       "  <matplotlib.lines.Line2D at 0x25af86f7d50>],\n",
       " 'boxes': [<matplotlib.lines.Line2D at 0x25af8283f10>],\n",
       " 'medians': [<matplotlib.lines.Line2D at 0x25af87008d0>],\n",
       " 'fliers': [<matplotlib.lines.Line2D at 0x25af8700310>],\n",
       " 'means': [<matplotlib.lines.Line2D at 0x25af87012d0>]}"
      ]
     },
     "execution_count": 41,
     "metadata": {},
     "output_type": "execute_result"
    },
    {
     "data": {
      "image/png": "[encoded data removed]",
      "text/plain": [
       "<Figure size 640x480 with 1 Axes>"
      ]
     },
     "metadata": {},
     "output_type": "display_data"
    }
   ],
   "source": [
    "#now we are left with total of 48558 rows.\n",
    "#let's again check outliers for minimum nights.\n",
    "plt.boxplot(df['reviews_per_month'] , showmeans = True)"
   ]
  },
  {
   "cell_type": "code",
   "execution_count": 42,
   "id": "c3bbc5a6-962a-4760-ba8e-8764e1301675",
   "metadata": {},
   "outputs": [],
   "source": [
    "# still we have some outliers , but we have removed outliers to a certain extent.\n"
   ]
  },
  {
   "cell_type": "code",
   "execution_count": 43,
   "id": "fb7e0581-447e-4787-8a4b-2d86d0878223",
   "metadata": {},
   "outputs": [
    {
     "data": {
      "text/plain": [
       "{'whiskers': [<matplotlib.lines.Line2D at 0x25af87525d0>,\n",
       "  <matplotlib.lines.Line2D at 0x25af875fdd0>],\n",
       " 'caps': [<matplotlib.lines.Line2D at 0x25af8770890>,\n",
       "  <matplotlib.lines.Line2D at 0x25af8771210>],\n",
       " 'boxes': [<matplotlib.lines.Line2D at 0x25af8721a10>],\n",
       " 'medians': [<matplotlib.lines.Line2D at 0x25af8771d90>],\n",
       " 'fliers': [<matplotlib.lines.Line2D at 0x25af7f93350>],\n",
       " 'means': [<matplotlib.lines.Line2D at 0x25af8772850>]}"
      ]
     },
     "execution_count": 43,
     "metadata": {},
     "output_type": "execute_result"
    },
    {
     "data": {
      "image/png": "[encoded data removed]",
      "text/plain": [
       "<Figure size 640x480 with 1 Axes>"
      ]
     },
     "metadata": {},
     "output_type": "display_data"
    }
   ],
   "source": [
    "#now check the outliers for calculated host listings count\n",
    "plt.boxplot(df['calculated_host_listings_count'],showmeans = True)"
   ]
  },
  {
   "cell_type": "code",
   "execution_count": 44,
   "id": "b3f65347-5620-407b-ad73-f89074e12d98",
   "metadata": {},
   "outputs": [
    {
     "data": {
      "text/plain": [
       "id                                1320\n",
       "name                              1320\n",
       "host_id                           1320\n",
       "host_name                         1320\n",
       "neighbourhood_group               1320\n",
       "neighbourhood                     1320\n",
       "latitude                          1320\n",
       "longitude                         1320\n",
       "room_type                         1320\n",
       "price                             1320\n",
       "minimum_nights                    1320\n",
       "number_of_reviews                 1320\n",
       "last_review                       1320\n",
       "reviews_per_month                 1320\n",
       "calculated_host_listings_count    1320\n",
       "availability_365                  1320\n",
       "dtype: int64"
      ]
     },
     "execution_count": 44,
     "metadata": {},
     "output_type": "execute_result"
    }
   ],
   "source": [
    "df[(df['calculated_host_listings_count'] > 50)&(df['calculated_host_listings_count'] < 400)].count()"
   ]
  },
  {
   "cell_type": "code",
   "execution_count": 45,
   "id": "35d1a1e6-7a9b-46e5-a39d-c4e0eb0fed3e",
   "metadata": {},
   "outputs": [],
   "source": [
    "index_def3 = df[(df['calculated_host_listings_count'] > 50)&(df['calculated_host_listings_count'] < 400)].index\n",
    "df = df.drop(index_def3)\n"
   ]
  },
  {
   "cell_type": "code",
   "execution_count": 46,
   "id": "9060870d-2bbc-4ae2-9e40-5ceee14e7deb",
   "metadata": {},
   "outputs": [
    {
     "name": "stdout",
     "output_type": "stream",
     "text": [
      "<class 'pandas.core.frame.DataFrame'>\n",
      "Index: 47238 entries, 0 to 48894\n",
      "Data columns (total 16 columns):\n",
      " #   Column                          Non-Null Count  Dtype  \n",
      "---  ------                          --------------  -----  \n",
      " 0   id                              47238 non-null  int64  \n",
      " 1   name                            47238 non-null  object \n",
      " 2   host_id                         47238 non-null  int64  \n",
      " 3   host_name                       47238 non-null  object \n",
      " 4   neighbourhood_group             47238 non-null  object \n",
      " 5   neighbourhood                   47238 non-null  object \n",
      " 6   latitude                        47238 non-null  float64\n",
      " 7   longitude                       47238 non-null  float64\n",
      " 8   room_type                       47238 non-null  object \n",
      " 9   price                           47238 non-null  int64  \n",
      " 10  minimum_nights                  47238 non-null  int64  \n",
      " 11  number_of_reviews               47238 non-null  int64  \n",
      " 12  last_review                     47238 non-null  object \n",
      " 13  reviews_per_month               47238 non-null  float64\n",
      " 14  calculated_host_listings_count  47238 non-null  int64  \n",
      " 15  availability_365                47238 non-null  int64  \n",
      "dtypes: float64(3), int64(7), object(6)\n",
      "memory usage: 6.1+ MB\n"
     ]
    }
   ],
   "source": [
    "df.info()"
   ]
  },
  {
   "cell_type": "code",
   "execution_count": 47,
   "id": "4ea660d8-27a3-4c43-b5e6-707e0a2dfe73",
   "metadata": {},
   "outputs": [
    {
     "data": {
      "text/plain": [
       "{'whiskers': [<matplotlib.lines.Line2D at 0x25af87cfe10>,\n",
       "  <matplotlib.lines.Line2D at 0x25af87d89d0>],\n",
       " 'caps': [<matplotlib.lines.Line2D at 0x25af87d94d0>,\n",
       "  <matplotlib.lines.Line2D at 0x25af87d9f90>],\n",
       " 'boxes': [<matplotlib.lines.Line2D at 0x25af87cf350>],\n",
       " 'medians': [<matplotlib.lines.Line2D at 0x25af87daa10>],\n",
       " 'fliers': [<matplotlib.lines.Line2D at 0x25af87dbf90>],\n",
       " 'means': [<matplotlib.lines.Line2D at 0x25af87db4d0>]}"
      ]
     },
     "execution_count": 47,
     "metadata": {},
     "output_type": "execute_result"
    },
    {
     "data": {
      "image/png": "[encoded data removed]",
      "text/plain": [
       "<Figure size 640x480 with 1 Axes>"
      ]
     },
     "metadata": {},
     "output_type": "display_data"
    }
   ],
   "source": [
    "#lets' check outliers for calculated_host_listings_count\n",
    "plt.boxplot(df['calculated_host_listings_count'],showmeans = True)"
   ]
  },
  {
   "cell_type": "code",
   "execution_count": 48,
   "id": "56a06a76-6fe4-4266-856e-cd7b7a3493b8",
   "metadata": {},
   "outputs": [
    {
     "data": {
      "text/plain": [
       "{'whiskers': [<matplotlib.lines.Line2D at 0x25af8629dd0>,\n",
       "  <matplotlib.lines.Line2D at 0x25af862a890>,\n",
       "  <matplotlib.lines.Line2D at 0x25af86375d0>,\n",
       "  <matplotlib.lines.Line2D at 0x25af8644110>,\n",
       "  <matplotlib.lines.Line2D at 0x25af864ca50>,\n",
       "  <matplotlib.lines.Line2D at 0x25af864d550>,\n",
       "  <matplotlib.lines.Line2D at 0x25af865df10>,\n",
       "  <matplotlib.lines.Line2D at 0x25af865e990>],\n",
       " 'caps': [<matplotlib.lines.Line2D at 0x25af862b450>,\n",
       "  <matplotlib.lines.Line2D at 0x25af862bfd0>,\n",
       "  <matplotlib.lines.Line2D at 0x25af8644b90>,\n",
       "  <matplotlib.lines.Line2D at 0x25af86455d0>,\n",
       "  <matplotlib.lines.Line2D at 0x25af864df90>,\n",
       "  <matplotlib.lines.Line2D at 0x25af864e9d0>,\n",
       "  <matplotlib.lines.Line2D at 0x25af865f410>,\n",
       "  <matplotlib.lines.Line2D at 0x25af865fe90>],\n",
       " 'boxes': [<matplotlib.lines.Line2D at 0x25af8629250>,\n",
       "  <matplotlib.lines.Line2D at 0x25af8636c10>,\n",
       "  <matplotlib.lines.Line2D at 0x25af8647f90>,\n",
       "  <matplotlib.lines.Line2D at 0x25af865d490>],\n",
       " 'medians': [<matplotlib.lines.Line2D at 0x25af8634b10>,\n",
       "  <matplotlib.lines.Line2D at 0x25af8646050>,\n",
       "  <matplotlib.lines.Line2D at 0x25af864f4d0>,\n",
       "  <matplotlib.lines.Line2D at 0x25af86688d0>],\n",
       " 'fliers': [<matplotlib.lines.Line2D at 0x25af8636010>,\n",
       "  <matplotlib.lines.Line2D at 0x25af8647510>,\n",
       "  <matplotlib.lines.Line2D at 0x25af864c950>,\n",
       "  <matplotlib.lines.Line2D at 0x25af8669d50>],\n",
       " 'means': [<matplotlib.lines.Line2D at 0x25af86355d0>,\n",
       "  <matplotlib.lines.Line2D at 0x25af8646a90>,\n",
       "  <matplotlib.lines.Line2D at 0x25af864fed0>,\n",
       "  <matplotlib.lines.Line2D at 0x25af86692d0>]}"
      ]
     },
     "execution_count": 48,
     "metadata": {},
     "output_type": "execute_result"
    },
    {
     "data": {
      "image/png": "[encoded data removed]",
      "text/plain": [
       "<Figure size 2000x500 with 1 Axes>"
      ]
     },
     "metadata": {},
     "output_type": "display_data"
    }
   ],
   "source": [
    "#check the outliers for all major parameters.\n",
    "plt.figure(figsize=(20,5))\n",
    "z1 = df['price']\n",
    "z2 = df['minimum_nights']\n",
    "z3 = df['number_of_reviews']\n",
    "z4= df['calculated_host_listings_count']\n",
    "z = [z1,z2,z3,z4]\n",
    "plt.boxplot(z , showmeans = True , tick_labels = [\"price\" , \"minimum_nights\", \"number_of_reviews\",\"calculated_host_listings_count\"])"
   ]
  },
  {
   "cell_type": "code",
   "execution_count": 49,
   "id": "8754d453-53f7-4340-b794-ebfd5eb075e3",
   "metadata": {},
   "outputs": [
    {
     "data": {
      "text/html": [
       "<div>\n",
       "<style scoped>\n",
       "    .dataframe tbody tr th:only-of-type {\n",
       "        vertical-align: middle;\n",
       "    }\n",
       "\n",
       "    .dataframe tbody tr th {\n",
       "        vertical-align: top;\n",
       "    }\n",
       "\n",
       "    .dataframe thead th {\n",
       "        text-align: right;\n",
       "    }\n",
       "</style>\n",
       "<table border=\"1\" class=\"dataframe\">\n",
       "  <thead>\n",
       "    <tr style=\"text-align: right;\">\n",
       "      <th></th>\n",
       "      <th>id</th>\n",
       "      <th>host_id</th>\n",
       "      <th>latitude</th>\n",
       "      <th>longitude</th>\n",
       "      <th>price</th>\n",
       "      <th>minimum_nights</th>\n",
       "      <th>number_of_reviews</th>\n",
       "      <th>reviews_per_month</th>\n",
       "      <th>calculated_host_listings_count</th>\n",
       "      <th>availability_365</th>\n",
       "    </tr>\n",
       "  </thead>\n",
       "  <tbody>\n",
       "    <tr>\n",
       "      <th>count</th>\n",
       "      <td>4.723800e+04</td>\n",
       "      <td>4.723800e+04</td>\n",
       "      <td>47238.000000</td>\n",
       "      <td>47238.000000</td>\n",
       "      <td>47238.000000</td>\n",
       "      <td>47238.000000</td>\n",
       "      <td>47238.000000</td>\n",
       "      <td>47238.000000</td>\n",
       "      <td>47238.000000</td>\n",
       "      <td>47238.000000</td>\n",
       "    </tr>\n",
       "    <tr>\n",
       "      <th>mean</th>\n",
       "      <td>1.887496e+07</td>\n",
       "      <td>6.658633e+07</td>\n",
       "      <td>40.728598</td>\n",
       "      <td>-73.951213</td>\n",
       "      <td>139.027266</td>\n",
       "      <td>5.989627</td>\n",
       "      <td>23.925526</td>\n",
       "      <td>1.395621</td>\n",
       "      <td>2.510733</td>\n",
       "      <td>107.552881</td>\n",
       "    </tr>\n",
       "    <tr>\n",
       "      <th>std</th>\n",
       "      <td>1.096246e+07</td>\n",
       "      <td>7.822579e+07</td>\n",
       "      <td>0.055119</td>\n",
       "      <td>0.046254</td>\n",
       "      <td>116.177570</td>\n",
       "      <td>12.767881</td>\n",
       "      <td>44.942297</td>\n",
       "      <td>1.637981</td>\n",
       "      <td>5.104128</td>\n",
       "      <td>129.137595</td>\n",
       "    </tr>\n",
       "    <tr>\n",
       "      <th>min</th>\n",
       "      <td>2.539000e+03</td>\n",
       "      <td>2.438000e+03</td>\n",
       "      <td>40.499790</td>\n",
       "      <td>-74.244420</td>\n",
       "      <td>0.000000</td>\n",
       "      <td>1.000000</td>\n",
       "      <td>0.000000</td>\n",
       "      <td>0.010000</td>\n",
       "      <td>1.000000</td>\n",
       "      <td>0.000000</td>\n",
       "    </tr>\n",
       "    <tr>\n",
       "      <th>25%</th>\n",
       "      <td>9.365138e+06</td>\n",
       "      <td>7.574606e+06</td>\n",
       "      <td>40.689240</td>\n",
       "      <td>-73.982150</td>\n",
       "      <td>68.000000</td>\n",
       "      <td>1.000000</td>\n",
       "      <td>1.000000</td>\n",
       "      <td>0.200000</td>\n",
       "      <td>1.000000</td>\n",
       "      <td>0.000000</td>\n",
       "    </tr>\n",
       "    <tr>\n",
       "      <th>50%</th>\n",
       "      <td>1.950651e+07</td>\n",
       "      <td>3.035922e+07</td>\n",
       "      <td>40.722190</td>\n",
       "      <td>-73.954900</td>\n",
       "      <td>100.000000</td>\n",
       "      <td>2.000000</td>\n",
       "      <td>6.000000</td>\n",
       "      <td>0.790000</td>\n",
       "      <td>1.000000</td>\n",
       "      <td>38.000000</td>\n",
       "    </tr>\n",
       "    <tr>\n",
       "      <th>75%</th>\n",
       "      <td>2.889733e+07</td>\n",
       "      <td>1.049256e+08</td>\n",
       "      <td>40.763357</td>\n",
       "      <td>-73.935200</td>\n",
       "      <td>172.000000</td>\n",
       "      <td>5.000000</td>\n",
       "      <td>25.000000</td>\n",
       "      <td>2.010000</td>\n",
       "      <td>2.000000</td>\n",
       "      <td>208.000000</td>\n",
       "    </tr>\n",
       "    <tr>\n",
       "      <th>max</th>\n",
       "      <td>3.648724e+07</td>\n",
       "      <td>2.743213e+08</td>\n",
       "      <td>40.913060</td>\n",
       "      <td>-73.712990</td>\n",
       "      <td>1000.000000</td>\n",
       "      <td>300.000000</td>\n",
       "      <td>629.000000</td>\n",
       "      <td>14.620000</td>\n",
       "      <td>50.000000</td>\n",
       "      <td>365.000000</td>\n",
       "    </tr>\n",
       "  </tbody>\n",
       "</table>\n",
       "</div>"
      ],
      "text/plain": [
       "                 id       host_id      latitude     longitude         price  \\\n",
       "count  4.723800e+04  4.723800e+04  47238.000000  47238.000000  47238.000000   \n",
       "mean   1.887496e+07  6.658633e+07     40.728598    -73.951213    139.027266   \n",
       "std    1.096246e+07  7.822579e+07      0.055119      0.046254    116.177570   \n",
       "min    2.539000e+03  2.438000e+03     40.499790    -74.244420      0.000000   \n",
       "25%    9.365138e+06  7.574606e+06     40.689240    -73.982150     68.000000   \n",
       "50%    1.950651e+07  3.035922e+07     40.722190    -73.954900    100.000000   \n",
       "75%    2.889733e+07  1.049256e+08     40.763357    -73.935200    172.000000   \n",
       "max    3.648724e+07  2.743213e+08     40.913060    -73.712990   1000.000000   \n",
       "\n",
       "       minimum_nights  number_of_reviews  reviews_per_month  \\\n",
       "count    47238.000000       47238.000000       47238.000000   \n",
       "mean         5.989627          23.925526           1.395621   \n",
       "std         12.767881          44.942297           1.637981   \n",
       "min          1.000000           0.000000           0.010000   \n",
       "25%          1.000000           1.000000           0.200000   \n",
       "50%          2.000000           6.000000           0.790000   \n",
       "75%          5.000000          25.000000           2.010000   \n",
       "max        300.000000         629.000000          14.620000   \n",
       "\n",
       "       calculated_host_listings_count  availability_365  \n",
       "count                    47238.000000      47238.000000  \n",
       "mean                         2.510733        107.552881  \n",
       "std                          5.104128        129.137595  \n",
       "min                          1.000000          0.000000  \n",
       "25%                          1.000000          0.000000  \n",
       "50%                          1.000000         38.000000  \n",
       "75%                          2.000000        208.000000  \n",
       "max                         50.000000        365.000000  "
      ]
     },
     "execution_count": 49,
     "metadata": {},
     "output_type": "execute_result"
    }
   ],
   "source": [
    "df.describe()"
   ]
  },
  {
   "cell_type": "code",
   "execution_count": 50,
   "id": "a1078297-d7bb-4bf3-ae73-5b1bba452a45",
   "metadata": {},
   "outputs": [
    {
     "data": {
      "text/plain": [
       "id                                2077\n",
       "name                              2077\n",
       "host_id                           2077\n",
       "host_name                         2077\n",
       "neighbourhood_group               2077\n",
       "neighbourhood                     2077\n",
       "latitude                          2077\n",
       "longitude                         2077\n",
       "room_type                         2077\n",
       "price                             2077\n",
       "minimum_nights                    2077\n",
       "number_of_reviews                 2077\n",
       "last_review                       2077\n",
       "reviews_per_month                 2077\n",
       "calculated_host_listings_count    2077\n",
       "availability_365                  2077\n",
       "dtype: int64"
      ]
     },
     "execution_count": 50,
     "metadata": {},
     "output_type": "execute_result"
    }
   ],
   "source": [
    "df[(df['price'] > 350)&(df['price'] <=1000)].count()"
   ]
  },
  {
   "cell_type": "code",
   "execution_count": 51,
   "id": "4adafd93-3569-42a6-8103-aa29ce5b51da",
   "metadata": {},
   "outputs": [
    {
     "data": {
      "text/plain": [
       "id                                9190\n",
       "name                              9190\n",
       "host_id                           9190\n",
       "host_name                         9190\n",
       "neighbourhood_group               9190\n",
       "neighbourhood                     9190\n",
       "latitude                          9190\n",
       "longitude                         9190\n",
       "room_type                         9190\n",
       "price                             9190\n",
       "minimum_nights                    9190\n",
       "number_of_reviews                 9190\n",
       "last_review                       9190\n",
       "reviews_per_month                 9190\n",
       "calculated_host_listings_count    9190\n",
       "availability_365                  9190\n",
       "dtype: int64"
      ]
     },
     "execution_count": 51,
     "metadata": {},
     "output_type": "execute_result"
    }
   ],
   "source": [
    "df[df['number_of_reviews'] == 0].count()"
   ]
  },
  {
   "cell_type": "code",
   "execution_count": 52,
   "id": "f44319c5-6964-4e27-9ab5-e493f270afd4",
   "metadata": {},
   "outputs": [
    {
     "data": {
      "text/plain": [
       "id                                662\n",
       "name                              662\n",
       "host_id                           662\n",
       "host_name                         662\n",
       "neighbourhood_group               662\n",
       "neighbourhood                     662\n",
       "latitude                          662\n",
       "longitude                         662\n",
       "room_type                         662\n",
       "price                             662\n",
       "minimum_nights                    662\n",
       "number_of_reviews                 662\n",
       "last_review                       662\n",
       "reviews_per_month                 662\n",
       "calculated_host_listings_count    662\n",
       "availability_365                  662\n",
       "dtype: int64"
      ]
     },
     "execution_count": 52,
     "metadata": {},
     "output_type": "execute_result"
    }
   ],
   "source": [
    "df[(df['minimum_nights'] > 30) & (df['minimum_nights'] <= 300)].count()"
   ]
  },
  {
   "cell_type": "code",
   "execution_count": 53,
   "id": "501e599d-763e-45d4-a0c5-7af6453540ee",
   "metadata": {},
   "outputs": [
    {
     "name": "stdout",
     "output_type": "stream",
     "text": [
      "<class 'pandas.core.frame.DataFrame'>\n",
      "Index: 47238 entries, 0 to 48894\n",
      "Data columns (total 16 columns):\n",
      " #   Column                          Non-Null Count  Dtype  \n",
      "---  ------                          --------------  -----  \n",
      " 0   id                              47238 non-null  int64  \n",
      " 1   name                            47238 non-null  object \n",
      " 2   host_id                         47238 non-null  int64  \n",
      " 3   host_name                       47238 non-null  object \n",
      " 4   neighbourhood_group             47238 non-null  object \n",
      " 5   neighbourhood                   47238 non-null  object \n",
      " 6   latitude                        47238 non-null  float64\n",
      " 7   longitude                       47238 non-null  float64\n",
      " 8   room_type                       47238 non-null  object \n",
      " 9   price                           47238 non-null  int64  \n",
      " 10  minimum_nights                  47238 non-null  int64  \n",
      " 11  number_of_reviews               47238 non-null  int64  \n",
      " 12  last_review                     47238 non-null  object \n",
      " 13  reviews_per_month               47238 non-null  float64\n",
      " 14  calculated_host_listings_count  47238 non-null  int64  \n",
      " 15  availability_365                47238 non-null  int64  \n",
      "dtypes: float64(3), int64(7), object(6)\n",
      "memory usage: 6.1+ MB\n"
     ]
    }
   ],
   "source": [
    "df.info()"
   ]
  },
  {
   "cell_type": "code",
   "execution_count": 54,
   "id": "76c6df52-c5b0-49ab-9b76-03d0fa019ee7",
   "metadata": {},
   "outputs": [],
   "source": [
    "#let's again remove some outliers , who have minimum nights more than 30.\n",
    "index_def4 = df[(df['minimum_nights'] > 30) & (df['minimum_nights'] <= 300)].index\n",
    "df = df.drop(index_def4)"
   ]
  },
  {
   "cell_type": "code",
   "execution_count": 55,
   "id": "6da38441-f4a8-4260-ba1e-e1c2d273dbd1",
   "metadata": {},
   "outputs": [
    {
     "name": "stdout",
     "output_type": "stream",
     "text": [
      "<class 'pandas.core.frame.DataFrame'>\n",
      "Index: 46576 entries, 0 to 48894\n",
      "Data columns (total 16 columns):\n",
      " #   Column                          Non-Null Count  Dtype  \n",
      "---  ------                          --------------  -----  \n",
      " 0   id                              46576 non-null  int64  \n",
      " 1   name                            46576 non-null  object \n",
      " 2   host_id                         46576 non-null  int64  \n",
      " 3   host_name                       46576 non-null  object \n",
      " 4   neighbourhood_group             46576 non-null  object \n",
      " 5   neighbourhood                   46576 non-null  object \n",
      " 6   latitude                        46576 non-null  float64\n",
      " 7   longitude                       46576 non-null  float64\n",
      " 8   room_type                       46576 non-null  object \n",
      " 9   price                           46576 non-null  int64  \n",
      " 10  minimum_nights                  46576 non-null  int64  \n",
      " 11  number_of_reviews               46576 non-null  int64  \n",
      " 12  last_review                     46576 non-null  object \n",
      " 13  reviews_per_month               46576 non-null  float64\n",
      " 14  calculated_host_listings_count  46576 non-null  int64  \n",
      " 15  availability_365                46576 non-null  int64  \n",
      "dtypes: float64(3), int64(7), object(6)\n",
      "memory usage: 6.0+ MB\n"
     ]
    }
   ],
   "source": [
    "df.info()"
   ]
  },
  {
   "cell_type": "code",
   "execution_count": 56,
   "id": "23a9a9be-6e39-4bd9-aab2-fe6f7ec3ecdb",
   "metadata": {},
   "outputs": [
    {
     "data": {
      "text/plain": [
       "{'whiskers': [<matplotlib.lines.Line2D at 0x25af97f8ad0>,\n",
       "  <matplotlib.lines.Line2D at 0x25af97f9410>,\n",
       "  <matplotlib.lines.Line2D at 0x25af7ba8ed0>,\n",
       "  <matplotlib.lines.Line2D at 0x25af9809790>,\n",
       "  <matplotlib.lines.Line2D at 0x25af98198d0>,\n",
       "  <matplotlib.lines.Line2D at 0x25af981a450>,\n",
       "  <matplotlib.lines.Line2D at 0x25af9822d10>,\n",
       "  <matplotlib.lines.Line2D at 0x25af9823790>],\n",
       " 'caps': [<matplotlib.lines.Line2D at 0x25af97f9d90>,\n",
       "  <matplotlib.lines.Line2D at 0x25af97fa590>,\n",
       "  <matplotlib.lines.Line2D at 0x25af980a010>,\n",
       "  <matplotlib.lines.Line2D at 0x25af980a710>,\n",
       "  <matplotlib.lines.Line2D at 0x25af981ae90>,\n",
       "  <matplotlib.lines.Line2D at 0x25af981b950>,\n",
       "  <matplotlib.lines.Line2D at 0x25af98302d0>,\n",
       "  <matplotlib.lines.Line2D at 0x25af9830c50>],\n",
       " 'boxes': [<matplotlib.lines.Line2D at 0x25af97f8550>,\n",
       "  <matplotlib.lines.Line2D at 0x25af9808750>,\n",
       "  <matplotlib.lines.Line2D at 0x25af9818e90>,\n",
       "  <matplotlib.lines.Line2D at 0x25af9822310>],\n",
       " 'medians': [<matplotlib.lines.Line2D at 0x25af97fadd0>,\n",
       "  <matplotlib.lines.Line2D at 0x25af980af10>,\n",
       "  <matplotlib.lines.Line2D at 0x25af9820390>,\n",
       "  <matplotlib.lines.Line2D at 0x25af98316d0>],\n",
       " 'fliers': [<matplotlib.lines.Line2D at 0x25af97fbed0>,\n",
       "  <matplotlib.lines.Line2D at 0x25af98182d0>,\n",
       "  <matplotlib.lines.Line2D at 0x25af98214d0>,\n",
       "  <matplotlib.lines.Line2D at 0x25af9822c90>],\n",
       " 'means': [<matplotlib.lines.Line2D at 0x25af97fb690>,\n",
       "  <matplotlib.lines.Line2D at 0x25af980b850>,\n",
       "  <matplotlib.lines.Line2D at 0x25af9820e50>,\n",
       "  <matplotlib.lines.Line2D at 0x25af9832190>]}"
      ]
     },
     "execution_count": 56,
     "metadata": {},
     "output_type": "execute_result"
    },
    {
     "data": {
      "image/png": "[encoded data removed]",
      "text/plain": [
       "<Figure size 2000x500 with 1 Axes>"
      ]
     },
     "metadata": {},
     "output_type": "display_data"
    }
   ],
   "source": [
    "#check the outliers for all major parameters.\n",
    "plt.figure(figsize=(20,5))\n",
    "a1 = df['price']\n",
    "a2 = df['minimum_nights']\n",
    "a3 = df['number_of_reviews']\n",
    "a4= df['calculated_host_listings_count']\n",
    "a = [z1,z2,z3,z4]\n",
    "plt.boxplot(a , showmeans = True , tick_labels = [\"price\" , \"minimum_nights\", \"number_of_reviews\",\"calculated_host_listings_count\"])"
   ]
  },
  {
   "cell_type": "code",
   "execution_count": 57,
   "id": "0b8a7207-7b7f-43ee-929c-2f3984387759",
   "metadata": {},
   "outputs": [
    {
     "data": {
      "text/html": [
       "<div>\n",
       "<style scoped>\n",
       "    .dataframe tbody tr th:only-of-type {\n",
       "        vertical-align: middle;\n",
       "    }\n",
       "\n",
       "    .dataframe tbody tr th {\n",
       "        vertical-align: top;\n",
       "    }\n",
       "\n",
       "    .dataframe thead th {\n",
       "        text-align: right;\n",
       "    }\n",
       "</style>\n",
       "<table border=\"1\" class=\"dataframe\">\n",
       "  <thead>\n",
       "    <tr style=\"text-align: right;\">\n",
       "      <th></th>\n",
       "      <th>id</th>\n",
       "      <th>host_id</th>\n",
       "      <th>latitude</th>\n",
       "      <th>longitude</th>\n",
       "      <th>price</th>\n",
       "      <th>minimum_nights</th>\n",
       "      <th>number_of_reviews</th>\n",
       "      <th>reviews_per_month</th>\n",
       "      <th>calculated_host_listings_count</th>\n",
       "      <th>availability_365</th>\n",
       "    </tr>\n",
       "  </thead>\n",
       "  <tbody>\n",
       "    <tr>\n",
       "      <th>count</th>\n",
       "      <td>4.657600e+04</td>\n",
       "      <td>4.657600e+04</td>\n",
       "      <td>46576.000000</td>\n",
       "      <td>46576.000000</td>\n",
       "      <td>46576.000000</td>\n",
       "      <td>46576.000000</td>\n",
       "      <td>46576.000000</td>\n",
       "      <td>46576.000000</td>\n",
       "      <td>46576.000000</td>\n",
       "      <td>46576.000000</td>\n",
       "    </tr>\n",
       "    <tr>\n",
       "      <th>mean</th>\n",
       "      <td>1.888706e+07</td>\n",
       "      <td>6.674230e+07</td>\n",
       "      <td>40.728480</td>\n",
       "      <td>-73.951062</td>\n",
       "      <td>139.062822</td>\n",
       "      <td>5.012238</td>\n",
       "      <td>24.100245</td>\n",
       "      <td>1.400759</td>\n",
       "      <td>2.485873</td>\n",
       "      <td>106.626224</td>\n",
       "    </tr>\n",
       "    <tr>\n",
       "      <th>std</th>\n",
       "      <td>1.095358e+07</td>\n",
       "      <td>7.827272e+07</td>\n",
       "      <td>0.055141</td>\n",
       "      <td>0.046384</td>\n",
       "      <td>116.320071</td>\n",
       "      <td>7.392644</td>\n",
       "      <td>45.086840</td>\n",
       "      <td>1.639782</td>\n",
       "      <td>5.044469</td>\n",
       "      <td>128.786201</td>\n",
       "    </tr>\n",
       "    <tr>\n",
       "      <th>min</th>\n",
       "      <td>2.539000e+03</td>\n",
       "      <td>2.571000e+03</td>\n",
       "      <td>40.499790</td>\n",
       "      <td>-74.244420</td>\n",
       "      <td>0.000000</td>\n",
       "      <td>1.000000</td>\n",
       "      <td>0.000000</td>\n",
       "      <td>0.010000</td>\n",
       "      <td>1.000000</td>\n",
       "      <td>0.000000</td>\n",
       "    </tr>\n",
       "    <tr>\n",
       "      <th>25%</th>\n",
       "      <td>9.370156e+06</td>\n",
       "      <td>7.656244e+06</td>\n",
       "      <td>40.689170</td>\n",
       "      <td>-73.982080</td>\n",
       "      <td>68.000000</td>\n",
       "      <td>1.000000</td>\n",
       "      <td>1.000000</td>\n",
       "      <td>0.210000</td>\n",
       "      <td>1.000000</td>\n",
       "      <td>0.000000</td>\n",
       "    </tr>\n",
       "    <tr>\n",
       "      <th>50%</th>\n",
       "      <td>1.953147e+07</td>\n",
       "      <td>3.049106e+07</td>\n",
       "      <td>40.722080</td>\n",
       "      <td>-73.954840</td>\n",
       "      <td>100.000000</td>\n",
       "      <td>2.000000</td>\n",
       "      <td>6.000000</td>\n",
       "      <td>0.800000</td>\n",
       "      <td>1.000000</td>\n",
       "      <td>37.000000</td>\n",
       "    </tr>\n",
       "    <tr>\n",
       "      <th>75%</th>\n",
       "      <td>2.889636e+07</td>\n",
       "      <td>1.050312e+08</td>\n",
       "      <td>40.763260</td>\n",
       "      <td>-73.934970</td>\n",
       "      <td>173.000000</td>\n",
       "      <td>4.000000</td>\n",
       "      <td>25.000000</td>\n",
       "      <td>2.020000</td>\n",
       "      <td>2.000000</td>\n",
       "      <td>205.000000</td>\n",
       "    </tr>\n",
       "    <tr>\n",
       "      <th>max</th>\n",
       "      <td>3.648724e+07</td>\n",
       "      <td>2.743213e+08</td>\n",
       "      <td>40.913060</td>\n",
       "      <td>-73.712990</td>\n",
       "      <td>1000.000000</td>\n",
       "      <td>30.000000</td>\n",
       "      <td>629.000000</td>\n",
       "      <td>14.620000</td>\n",
       "      <td>50.000000</td>\n",
       "      <td>365.000000</td>\n",
       "    </tr>\n",
       "  </tbody>\n",
       "</table>\n",
       "</div>"
      ],
      "text/plain": [
       "                 id       host_id      latitude     longitude         price  \\\n",
       "count  4.657600e+04  4.657600e+04  46576.000000  46576.000000  46576.000000   \n",
       "mean   1.888706e+07  6.674230e+07     40.728480    -73.951062    139.062822   \n",
       "std    1.095358e+07  7.827272e+07      0.055141      0.046384    116.320071   \n",
       "min    2.539000e+03  2.571000e+03     40.499790    -74.244420      0.000000   \n",
       "25%    9.370156e+06  7.656244e+06     40.689170    -73.982080     68.000000   \n",
       "50%    1.953147e+07  3.049106e+07     40.722080    -73.954840    100.000000   \n",
       "75%    2.889636e+07  1.050312e+08     40.763260    -73.934970    173.000000   \n",
       "max    3.648724e+07  2.743213e+08     40.913060    -73.712990   1000.000000   \n",
       "\n",
       "       minimum_nights  number_of_reviews  reviews_per_month  \\\n",
       "count    46576.000000       46576.000000       46576.000000   \n",
       "mean         5.012238          24.100245           1.400759   \n",
       "std          7.392644          45.086840           1.639782   \n",
       "min          1.000000           0.000000           0.010000   \n",
       "25%          1.000000           1.000000           0.210000   \n",
       "50%          2.000000           6.000000           0.800000   \n",
       "75%          4.000000          25.000000           2.020000   \n",
       "max         30.000000         629.000000          14.620000   \n",
       "\n",
       "       calculated_host_listings_count  availability_365  \n",
       "count                    46576.000000      46576.000000  \n",
       "mean                         2.485873        106.626224  \n",
       "std                          5.044469        128.786201  \n",
       "min                          1.000000          0.000000  \n",
       "25%                          1.000000          0.000000  \n",
       "50%                          1.000000         37.000000  \n",
       "75%                          2.000000        205.000000  \n",
       "max                         50.000000        365.000000  "
      ]
     },
     "execution_count": 57,
     "metadata": {},
     "output_type": "execute_result"
    }
   ],
   "source": [
    "df.describe()"
   ]
  },
  {
   "cell_type": "code",
   "execution_count": null,
   "id": "fde5d25c-2482-4a72-8d65-4fbe6cd5b326",
   "metadata": {},
   "outputs": [],
   "source": []
  }
 ],
 "metadata": {
  "kernelspec": {
   "display_name": "Python 3 (ipykernel)",
   "language": "python",
   "name": "python3"
  },
  "language_info": {
   "codemirror_mode": {
    "name": "ipython",
    "version": 3
   },
   "file_extension": ".py",
   "mimetype": "text/x-python",
   "name": "python",
   "nbconvert_exporter": "python",
   "pygments_lexer": "ipython3",
   "version": "3.11.6"
  }
 },
 "nbformat": 4,
 "nbformat_minor": 5
}
